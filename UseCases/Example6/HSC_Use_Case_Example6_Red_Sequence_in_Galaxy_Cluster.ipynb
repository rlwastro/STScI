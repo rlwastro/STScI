{
 "cells": [
  {
   "cell_type": "code",
   "execution_count": null,
   "id": "96e45e17-1d43-46ad-b04a-4700dc54765d",
   "metadata": {},
   "outputs": [],
   "source": [
    "import astropy\n",
    "from astropy.coordinates import SkyCoord\n",
    "import time\n",
    "import sys\n",
    "import os\n",
    "import requests\n",
    "import json\n",
    "import numpy as np\n",
    "import matplotlib.pyplot as plt\n",
    "import seaborn as sns\n",
    "import pandas as pd\n",
    "\n",
    "from PIL import Image\n",
    "from io import BytesIO\n",
    "\n",
    "from astropy.table import Table, join\n",
    "from astropy.io import ascii\n",
    "\n",
    "# set width for pprint\n",
    "astropy.conf.max_width = 150"
   ]
  },
  {
   "cell_type": "code",
   "execution_count": null,
   "id": "68bf7083-1272-4a15-a872-20a13554471f",
   "metadata": {},
   "outputs": [],
   "source": [
    "pd.set_option('display.max_columns', 700)\n",
    "pd.set_option('display.max_rows', 400)\n",
    "pd.set_option('display.min_rows', 10)\n",
    "pd.set_option('display.expand_frame_repr', True)"
   ]
  },
  {
   "cell_type": "markdown",
   "id": "451808d6-143b-4753-8ad5-128fd8443a35",
   "metadata": {},
   "source": [
    "### Useful functions\n",
    "\n",
    "* The `hcvcone(ra,dec,radius [,keywords])` function searches the HCV catalog near a position.\n",
    "* The `hcvsearch()` function performs general non-positional queries.\n",
    "* The `hcvmetadata()` function gives information about the columns available in a table."
   ]
  },
  {
   "cell_type": "code",
   "execution_count": null,
   "id": "282020f0-a8e1-41f7-ad0e-d3aea592a972",
   "metadata": {},
   "outputs": [],
   "source": [
    "hscapiurl = \"https://catalogs.mast.stsci.edu/api/v0.1/hsc\"\n",
    "\n",
    "\n",
    "def hcvcone(ra, dec, radius, table=\"hcvsummary\", release=\"v3\", format=\"csv\", magtype=\"magaper2\",\n",
    "            columns=None, baseurl=hscapiurl, verbose=False, **kw):\n",
    "    \"\"\"Do a cone search of the HSC catalog (including the HCV)\n",
    "    \n",
    "    Parameters\n",
    "    ----------\n",
    "    ra (float): (degrees) J2000 Right Ascension\n",
    "    dec (float): (degrees) J2000 Declination\n",
    "    radius (float): (degrees) Search radius (<= 0.5 degrees)\n",
    "    table (string): hcvsummary, hcv, summary, detailed, propermotions, or sourcepositions\n",
    "    release (string): v3 or v2\n",
    "    magtype (string): magaper2 or magauto (only applies to summary table)\n",
    "    format: csv, votable, json\n",
    "    columns: list of column names to include (None means use defaults)\n",
    "    baseurl: base URL for the request\n",
    "    verbose: print info about request\n",
    "    **kw: other parameters (e.g., 'numimages.gte':2)\n",
    "    \"\"\"\n",
    "    \n",
    "    data = kw.copy()\n",
    "    data['ra'] = ra\n",
    "    data['dec'] = dec\n",
    "    data['radius'] = radius\n",
    "    return hcvsearch(table=table, release=release, format=format, magtype=magtype,\n",
    "                     columns=columns, baseurl=baseurl, verbose=verbose, **data)\n",
    "\n",
    "\n",
    "def hcvsearch(table=\"hcvsummary\", release=\"v3\", magtype=\"magaper2\", format=\"csv\",\n",
    "              columns=None, baseurl=hscapiurl, verbose=False, **kw):\n",
    "    \"\"\"Do a general search of the HSC catalog (possibly without ra/dec/radius)\n",
    "    \n",
    "    Parameters\n",
    "    ----------\n",
    "    table (string): hcvsummary, hcv, summary, detailed, propermotions, or sourcepositions\n",
    "    release (string): v3 or v2\n",
    "    magtype (string): magaper2 or magauto (only applies to summary table)\n",
    "    format: csv, votable, json\n",
    "    columns: list of column names to include (None means use defaults)\n",
    "    baseurl: base URL for the request\n",
    "    verbose: print info about request\n",
    "    **kw: other parameters (e.g., 'numimages.gte':2).  Note this is required!\n",
    "    \"\"\"\n",
    "    \n",
    "    data = kw.copy()\n",
    "    if not data:\n",
    "        raise ValueError(\"You must specify some parameters for search\")\n",
    "    if format not in (\"csv\", \"votable\", \"json\"):\n",
    "        raise ValueError(\"Bad value for format\")\n",
    "    url = f\"{cat2url(table, release, magtype, baseurl=baseurl)}.{format}\"\n",
    "    if columns:\n",
    "        # check that column values are legal\n",
    "        # create a dictionary to speed this up\n",
    "        dcols = {}\n",
    "        for col in hcvmetadata(table, release, magtype)['name']:\n",
    "            dcols[col.lower()] = 1\n",
    "        badcols = []\n",
    "        for col in columns:\n",
    "            if col.lower().strip() not in dcols:\n",
    "                badcols.append(col)\n",
    "        if badcols:\n",
    "            raise ValueError(f\"Some columns not found in table: {', '.join(badcols)}\")\n",
    "        # two different ways to specify a list of column values in the API\n",
    "        # data['columns'] = columns\n",
    "        data['columns'] = f\"[{','.join(columns)}]\"\n",
    "\n",
    "    # either get or post works\n",
    "    # r = requests.post(url, data=data)\n",
    "    r = requests.get(url, params=data)\n",
    "\n",
    "    if verbose:\n",
    "        print(r.url)\n",
    "    r.raise_for_status()\n",
    "    if format == \"json\":\n",
    "        return r.json()\n",
    "    else:\n",
    "        return r.text\n",
    "\n",
    "\n",
    "def hcvmetadata(table=\"hcvsummary\", release=\"v3\", magtype=\"magaper2\", baseurl=hscapiurl):\n",
    "    \"\"\"Return metadata for the specified catalog and table\n",
    "    \n",
    "    Parameters\n",
    "    ----------\n",
    "    table (string): hcvsummary, hcv, summary, detailed, propermotions, or sourcepositions\n",
    "    release (string): v3 or v2\n",
    "    magtype (string): magaper2 or magauto (only applies to summary table)\n",
    "    baseurl: base URL for the request\n",
    "    \n",
    "    Returns an astropy table with columns name, type, description\n",
    "    \"\"\"\n",
    "    url = f\"{cat2url(table,release,magtype,baseurl=baseurl)}/metadata\"\n",
    "    r = requests.get(url)\n",
    "    r.raise_for_status()\n",
    "    v = r.json()\n",
    "    # convert to astropy table\n",
    "    tab = Table(rows=[(x['name'], x['type'], x['description']) for x in v],\n",
    "                names=('name', 'type', 'description'))\n",
    "    return tab\n",
    "\n",
    "\n",
    "def cat2url(table=\"hcvsummary\", release=\"v3\", magtype=\"magaper2\", baseurl=hscapiurl):\n",
    "    \"\"\"Return URL for the specified catalog and table\n",
    "    \n",
    "    Parameters\n",
    "    ----------\n",
    "    table (string): hcvsummary, hcv, summary, detailed, propermotions, or sourcepositions\n",
    "    release (string): v3 or v2\n",
    "    magtype (string): magaper2 or magauto (only applies to summary table)\n",
    "    baseurl: base URL for the request\n",
    "    \n",
    "    Returns a string with the base URL for this request\n",
    "    \"\"\"\n",
    "    checklegal(table, release, magtype)\n",
    "    if table == \"summary\":\n",
    "        url = f\"{baseurl}/{release}/{table}/{magtype}\"\n",
    "    else:\n",
    "        url = f\"{baseurl}/{release}/{table}\"\n",
    "    return url\n",
    "\n",
    "\n",
    "def checklegal(table, release, magtype):\n",
    "    \"\"\"Checks if this combination of table, release and magtype is acceptable\n",
    "    \n",
    "    Raises a ValueError exception if there is problem\n",
    "    \"\"\"\n",
    "    \n",
    "    releaselist = (\"v2\", \"v3\")\n",
    "    if release not in releaselist:\n",
    "        raise ValueError(f\"Bad value for release (must be one of {', '.join(releaselist)})\")\n",
    "    if release == \"v2\":\n",
    "        tablelist = (\"summary\", \"detailed\")\n",
    "    else:\n",
    "        tablelist = (\"summary\", \"detailed\", \"propermotions\", \"sourcepositions\", \"hcvsummary\", \"hcv\")\n",
    "    if table not in tablelist:\n",
    "        raise ValueError(f\"Bad value for table (for {release} must be one of {', '.join(tablelist)})\")\n",
    "    if table == \"summary\":\n",
    "        magtypelist = (\"magaper2\", \"magauto\")\n",
    "        if magtype not in magtypelist:\n",
    "            raise ValueError(f\"Bad value for magtype (must be one of {', '.join(magtypelist)})\")"
   ]
  },
  {
   "cell_type": "markdown",
   "id": "426a3bb2-c796-4ebc-add6-393e98c064a9",
   "metadata": {},
   "source": [
    "## Variable objects near Adell 2390"
   ]
  },
  {
   "cell_type": "markdown",
   "id": "e9172198-c8e8-4872-a5ff-845f7ae0d32a",
   "metadata": {},
   "source": [
    "### Use SkyCoord name resolver to get the position of Adell 2390"
   ]
  },
  {
   "cell_type": "code",
   "execution_count": null,
   "id": "ee969119-a3fd-48ca-a644-8d222c90f809",
   "metadata": {},
   "outputs": [],
   "source": [
    "target = 'Abell 2390'\n",
    "coord_adell2390 = SkyCoord.from_name(target)\n",
    "\n",
    "ra_adell2390 = coord_adell2390.ra.degree\n",
    "dec_adell2390 = coord_adell2390.dec.degree\n",
    "print(f'ra: {ra_adell2390}\\ndec: {dec_adell2390}')"
   ]
  },
  {
   "cell_type": "code",
   "execution_count": null,
   "id": "f09f686d-a162-4f74-aa15-6a1eca5d25bf",
   "metadata": {},
   "outputs": [],
   "source": [
    "radius = 0.2 # degrees\n",
    "cone = hcvcone(ra_adell2390, dec_adell2390, radius, table=\"summary\")\n",
    "tab = ascii.read(cone)\n",
    "df = tab.to_pandas()\n",
    "df.head()"
   ]
  },
  {
   "cell_type": "code",
   "execution_count": null,
   "id": "8bfd405e-e566-405a-abec-c8fc5a93a6b0",
   "metadata": {},
   "outputs": [],
   "source": [
    "g = sns.relplot(data=df, x='MatchRA', y='MatchDec', color='purple', height=10, hue='TargetName', alpha=.5)\n",
    "\n",
    "for ax in g.axes.ravel():\n",
    "    ax.invert_xaxis()"
   ]
  },
  {
   "cell_type": "code",
   "execution_count": null,
   "id": "1790e808-c1aa-4c96-ad6e-2ded2d326593",
   "metadata": {},
   "outputs": [],
   "source": []
  },
  {
   "cell_type": "code",
   "execution_count": null,
   "id": "82b40bfe-5a50-48aa-988c-49c42d538629",
   "metadata": {},
   "outputs": [],
   "source": []
  },
  {
   "cell_type": "code",
   "execution_count": null,
   "id": "e47876ef-1ebd-4013-a75e-05b42b279c6f",
   "metadata": {},
   "outputs": [],
   "source": []
  },
  {
   "cell_type": "code",
   "execution_count": null,
   "id": "0c19ce92-152d-4e56-a619-7adfa2d65694",
   "metadata": {},
   "outputs": [],
   "source": []
  },
  {
   "cell_type": "markdown",
   "id": "439d7f6e-94b7-4041-996d-28136b43ee5d",
   "metadata": {},
   "source": [
    "## Helpful Information\n",
    "\n",
    "- https://stackoverflow.com/q/54116787/7758804\n",
    "- https://stackoverflow.com/q/39008262/7758804\n",
    "- https://openastronomy.org/rcsc18/chapters/13-images-in-astronomy/01-images-in-astronomy\n",
    "- https://learn.astropy.org/\n",
    "- https://outerspace.stsci.edu/display/PANSTARRS/PS1+Image+Cutout+Service\n",
    "  - [Image][1]\n",
    "  - http://ps1images.stsci.edu/cgi-bin/ps1cutouts\n",
    "- [Get Image Notebook][2]\n",
    "  \n",
    "  \n",
    "  \n",
    "  [1]: https://ps1images.stsci.edu/cgi-bin/fitscut.cgi?red=/rings.v3.skycell/1756/040/rings.v3.skycell.1756.040.stk.i.unconv.fits&blue=/rings.v3.skycell/1756/040/rings.v3.skycell.1756.040.stk.g.unconv.fits&green=/rings.v3.skycell/1756/040/rings.v3.skycell.1756.040.stk.r.unconv.fits&x=328.397920&y=17.686670&size=2880&wcs=1&asinh=True&autoscale=99.750000&output_size=1024\n",
    "  [2]: https://ps1images.stsci.edu/ps1image.html"
   ]
  },
  {
   "cell_type": "code",
   "execution_count": null,
   "id": "7dc6b283-5e06-4d6f-9cce-6ef7e06ef115",
   "metadata": {},
   "outputs": [],
   "source": []
  },
  {
   "cell_type": "code",
   "execution_count": null,
   "id": "1fbf1f03-a20d-461c-8c03-587e7a0cef1d",
   "metadata": {},
   "outputs": [],
   "source": []
  },
  {
   "cell_type": "code",
   "execution_count": null,
   "id": "7d17003e-3638-4a8c-ac09-27d66b647e6f",
   "metadata": {},
   "outputs": [],
   "source": []
  },
  {
   "cell_type": "code",
   "execution_count": null,
   "id": "39752d3f-6b42-45e6-a5fb-5f9df5014f6e",
   "metadata": {},
   "outputs": [],
   "source": [
    "from astropy.coordinates import SkyCoord\n",
    "from astropy.utils.data import get_pkg_data_filename"
   ]
  },
  {
   "cell_type": "code",
   "execution_count": null,
   "id": "8f9d3b65-96d7-42da-8b73-36da536e8146",
   "metadata": {},
   "outputs": [],
   "source": [
    "SkyCoord.from_name('Abell 2390')"
   ]
  },
  {
   "cell_type": "code",
   "execution_count": null,
   "id": "260286fb-b71d-4934-bb74-d1f4239db9d8",
   "metadata": {},
   "outputs": [],
   "source": []
  },
  {
   "cell_type": "markdown",
   "id": "152d9eed-a462-468e-bed3-ea578524a532",
   "metadata": {},
   "source": [
    "# casjobs Implementation"
   ]
  },
  {
   "cell_type": "code",
   "execution_count": null,
   "id": "48428767-781e-40cf-a315-df545b02cdd7",
   "metadata": {},
   "outputs": [],
   "source": [
    "import astropy\n",
    "from astropy.coordinates import SkyCoord\n",
    "import time\n",
    "import sys\n",
    "import os\n",
    "import requests\n",
    "import json\n",
    "import numpy as np\n",
    "import matplotlib.pyplot as plt\n",
    "\n",
    "from PIL import Image\n",
    "from io import BytesIO\n",
    "\n",
    "from astropy.table import Table, join\n",
    "\n",
    "# check that version of mastcasjobs is new enough\n",
    "# we are using some features not in version 0.0.1\n",
    "from pkg_resources import get_distribution\n",
    "from packaging.version import Version as V\n",
    "\n",
    "assert V(get_distribution(\"mastcasjobs\").version) >= V('0.0.2'), \"\"\"\n",
    "A newer version of mastcasjobs is required.\n",
    "Update mastcasjobs to current version using this command:\n",
    "pip install --upgrade git+git://github.com/rlwastro/mastcasjobs@master\n",
    "\"\"\"\n",
    "\n",
    "import mastcasjobs\n",
    "\n",
    "# set width for pprint\n",
    "astropy.conf.max_width = 150"
   ]
  },
  {
   "cell_type": "code",
   "execution_count": null,
   "id": "064511bf-c13b-4d7f-a6f1-204921b375ff",
   "metadata": {},
   "outputs": [],
   "source": [
    "HSCContext = \"HSCv3\""
   ]
  },
  {
   "cell_type": "markdown",
   "id": "538b3c65-3122-45a4-950c-cdf82b86d7a0",
   "metadata": {},
   "source": [
    "Set up Casjobs environment."
   ]
  },
  {
   "cell_type": "code",
   "execution_count": null,
   "id": "671bcd67-b76a-4afa-9007-817a55c18ef2",
   "metadata": {},
   "outputs": [],
   "source": [
    "import getpass\n",
    "if not os.environ.get('CASJOBS_USERID'):\n",
    "    os.environ['CASJOBS_USERID'] = input('Enter Casjobs UserID:')\n",
    "if not os.environ.get('CASJOBS_PW'):\n",
    "    os.environ['CASJOBS_PW'] = getpass.getpass('Enter Casjobs password:')"
   ]
  },
  {
   "cell_type": "markdown",
   "id": "427908bd-5feb-48ec-a713-65aab4f72c97",
   "metadata": {},
   "source": [
    "## Variable objects near Adell 2390"
   ]
  },
  {
   "cell_type": "markdown",
   "id": "bf6ff513-4fef-4165-b092-b0097ccfb1d7",
   "metadata": {},
   "source": [
    "### Use SkyCoord name resolver to get the position of Adell 2390"
   ]
  },
  {
   "cell_type": "code",
   "execution_count": null,
   "id": "8b967799-a8d6-4844-8b0a-0d27ffe3d949",
   "metadata": {},
   "outputs": [],
   "source": [
    "target = 'Abell 2390'\n",
    "coord_adell2390 = SkyCoord.from_name(target)\n",
    "\n",
    "ra_adell2390 = coord_adell2390.ra.degree\n",
    "dec_adell2390 = coord_adell2390.dec.degree\n",
    "print(f'ra: {ra_adell2390}\\ndec: {dec_adell2390}')"
   ]
  },
  {
   "cell_type": "markdown",
   "id": "533d3719-4cff-4265-9145-c3d20b8f0d94",
   "metadata": {},
   "source": [
    "# TODO: Not able to get this to download any data"
   ]
  },
  {
   "cell_type": "code",
   "execution_count": null,
   "id": "23e7e20d-cf8c-4375-b41c-a6904ef07ae6",
   "metadata": {},
   "outputs": [],
   "source": [
    "HSCContext = \"HSCv3\"\n",
    "\n",
    "DBtable = \"summary\"\n",
    "jobs = mastcasjobs.MastCasJobs(context=\"MyDB\")\n",
    "\n",
    "# drop table if it already exists\n",
    "jobs.drop_table_if_exists(DBtable)\n",
    "\n",
    "# get main information\n",
    "radius = 1800.0 # arcsec\n",
    "query = f\"\"\"\n",
    "select m.MatchID, m.GroupID, m.SubGroupID, m.RA, m.Dec,\n",
    "   m.AutoClass, m.ExpertClass, m.NumFilters,\n",
    "   f.Filter, f.FilterDetFlag, f.VarQualFlag, f.NumLC, \n",
    "   f.MeanMag, f.MeanCorrMag, f.MAD, f.Chi2\n",
    "into mydb.{DBtable}\n",
    "from SearchHCVMatchID({ra_adell2390},{dec_adell2390},{radius}) s\n",
    "join HCVmatch m on m.MatchID=s.MatchID\n",
    "join HCVfilter f on f.MatchID=s.MatchID and (f.Filter='ACS_F475W' or f.Filter='ACS_F814W')\n",
    "\"\"\"\n",
    "\n",
    "t0 = time.time()\n",
    "results = jobs.quick(query, task_name=\"HCV demo\", context=HSCContext)\n",
    "\n",
    "print(f\"Completed in {(time.time()-t0):.1f} sec\")\n",
    "print(results)\n",
    "\n",
    "# fast retrieval using special MAST Casjobs service\n",
    "tab = jobs.fast_table(DBtable, verbose=True)\n",
    "\n",
    "# clean up the output format\n",
    "tab['MeanMag'].format = \"{:.3f}\"\n",
    "tab['MeanCorrMag'].format = \"{:.3f}\"\n",
    "tab['MAD'].format = \"{:.4f}\"\n",
    "tab['Chi2'].format = \"{:.4f}\"\n",
    "tab['RA'].format = \"{:.6f}\"\n",
    "tab['Dec'].format = \"{:.6f}\"\n",
    "\n",
    "# show some of the variable sources\n",
    "tab[tab['AutoClass'] > 0]"
   ]
  },
  {
   "cell_type": "code",
   "execution_count": null,
   "id": "a0ff616e-f171-4e96-bbc2-aaa1ad3dd925",
   "metadata": {},
   "outputs": [],
   "source": []
  },
  {
   "cell_type": "code",
   "execution_count": null,
   "id": "31a95460-6007-4500-9b55-b6308b59ed9f",
   "metadata": {},
   "outputs": [],
   "source": []
  },
  {
   "cell_type": "code",
   "execution_count": null,
   "id": "a1b8f56f-df75-451d-8aaa-e28eefa6843b",
   "metadata": {},
   "outputs": [],
   "source": []
  },
  {
   "cell_type": "code",
   "execution_count": null,
   "id": "34e303df-f2a4-4b48-85ee-f6a2a1240ae3",
   "metadata": {},
   "outputs": [],
   "source": []
  },
  {
   "cell_type": "markdown",
   "id": "3c3d30e1-e73d-46cb-8ea4-7e528a4b88ab",
   "metadata": {
    "tags": []
   },
   "source": [
    "# A Hubble Source Catalog (HSC) Use Case\n",
    "\n",
    "- [Example 6][1]: Using the Discovery Portal to study the Red Sequence in a Galaxy Cluster\n",
    "- (The Red Sequence in the Galaxy Cluster Abell 2390)\n",
    "\n",
    "\n",
    "  [1]: https://archive.stsci.edu/hst/hsc/help/use_case_6_v1.html"
   ]
  },
  {
   "cell_type": "markdown",
   "id": "dc4c1763-0aaf-4360-9b65-b117f12bc854",
   "metadata": {},
   "source": [
    "GOAL: This tutorial shows you how to use the [MAST Discovery Portal][1] to create a Color-Magnitude diagram of extended sources.\n",
    "\n",
    "SCIENCE CASE: The science case is to isolate the red sequence - a color-magnitude relation for elliptical and lenticular galaxies in clusters of galaxies - in a cluster well observed by HST (i.e. Abell 2390 at z=0.2; see [Gladders and Yee 2000, AJ, 120, 2148][2]). Aperture corrections and extinction corrections are also performed.\n",
    "Other potential use cases could include testing cluster evolution via the change in the slope of the red sequence, and identifying other clusters with pronounced red sequences.\n",
    "\n",
    "\n",
    "  [1]: http://mast.stsci.edu/portal/Mashup/Clients/Mast/Portal.html\n",
    "  [2]: https://ui.adsabs.harvard.edu/abs/2000AJ....120.2148G/abstract"
   ]
  },
  {
   "cell_type": "markdown",
   "id": "434ed0d8-3b68-4826-9dfb-6561a470d9f3",
   "metadata": {},
   "source": [
    "## Step 1 - Go to the [MAST Discovery Portal][1].\n",
    "\n",
    "Use the pull down menu under Select Collection to choose the HSC (<span style=\"color:blue;\">blue</span>). Enter the name of the cluster (or if you prefer the coordinates) and search radius (i.e. Abell 2390 r=0.2d) in the Search box (<span style=\"color:green;\">green</span>). Perform the search by just hitting a carriage return. The results are displayed in the List of Objects, while the AstroView window shows the objects against the DSS image. The left column is a series of Filters that can be used to refine the data selected.\n",
    "\n",
    "![redesequence_1][2]\n",
    "\n",
    "\n",
    "  [1]: http://mast.stsci.edu/portal/Mashup/Clients/Mast/Portal.html\n",
    "  [2]: screenshots/redsequence_1.png"
   ]
  },
  {
   "cell_type": "code",
   "execution_count": null,
   "id": "1c3ca272-e3e2-4004-a650-32a36b822522",
   "metadata": {},
   "outputs": [],
   "source": [
    "target = 'Abell 2390'\n",
    "coord_adell2390 = SkyCoord.from_name(target)\n",
    "\n",
    "ra_adell2390 = coord_adell2390.ra.degree\n",
    "dec_adell2390 = coord_adell2390.dec.degree\n",
    "print(f'ra: {ra_adell2390}\\ndec: {dec_adell2390}')"
   ]
  },
  {
   "cell_type": "code",
   "execution_count": null,
   "id": "e4d2db9b-613a-423b-81c5-a0a133221b71",
   "metadata": {},
   "outputs": [],
   "source": [
    "radius = 0.2 # degrees\n",
    "cone = hcvcone(ra_adell2390, dec_adell2390, radius, table=\"summary\")\n",
    "tab = ascii.read(cone)\n",
    "df = tab.to_pandas()\n",
    "df.head()"
   ]
  },
  {
   "cell_type": "code",
   "execution_count": null,
   "id": "4d819fd5-7152-4e80-ade7-4a24aed7d2c9",
   "metadata": {},
   "outputs": [],
   "source": [
    "g = sns.relplot(data=df, x='MatchRA', y='MatchDec', color='purple', height=10, hue='TargetName', alpha=.5)\n",
    "\n",
    "for ax in g.axes.ravel():\n",
    "    ax.invert_xaxis()"
   ]
  },
  {
   "cell_type": "markdown",
   "id": "edf4d651-b5a0-49ed-aca5-6f707654da99",
   "metadata": {},
   "source": [
    "## Step 2 - Refine the sample.\n",
    "\n",
    "The HSC includes both compact (point) and extended sources, as well as a few residual cosmic rays and image artifacts. Since we are looking for galaxies (i.e. extended sources), we want to remove as many point sources as possible. Scroll down the Filters section (<span style=\"color:blue;\">blue</span>) to the CI (Concentration Index) area and set the lower limit to be 1.3 by either moving the slider or typing in the value (<span style=\"color:green;\">green</span>). Note that about 1/3 of the objects have been rejected (<span style=\"color:orange;\">orange</span>).\n",
    "\n",
    "![redsequence_2][1]\n",
    "\n",
    "\n",
    "  [1]: screenshots/redsequence_2.png"
   ]
  },
  {
   "cell_type": "markdown",
   "id": "b5ba400c-0931-43aa-9890-5b9c11103e0e",
   "metadata": {},
   "source": [
    "## Step 3 - Determine the HSC magnitudes corrections.\n",
    "\n",
    "To make our Color-Magnitude diagram, we need to correct the magnitude values for the V (W2_F555W = WFPC2 F555W) and I (W2_F814W = WFPC2 F814W) to infinite aperture magnitudes for better comparison, and correct for Galactic extinction along the line of sight.\n",
    "\n",
    "Approximate aperture corrections can be taken from the [aperture corrections table][1], or estimated from the encircled energy curves provided by the instrument teams. For both filters, the aperture corrections are 0.17 mag, or:\n",
    "\n",
    "W2_F555W_Inf = W2_F555W - 0.17\n",
    "W2_F814W_Inf = W2_F814W - 0.17.\n",
    "\n",
    "Extinction correction is best estimated using an absorption calculator, like [Doug's Excellent Absorption Law Calculator][2]. The HSC table includes a column labeled Extinction, which is the Schlegel, Finkbeiner, & Davis 1998 ([ApJ, 500, 525, 1998][3]) E(B-V)=0.114 map value at that position. Using the absorption law calculator, with R_V = 3.1, and A_V = E(B-V) x R_V = 0.353, and assuming target wavelength equal to the pivot wavelength for each filter, or:\n",
    "\n",
    "W_V = 0.535 (um)\n",
    "W_I = 0.820 (um).\n",
    "\n",
    "We get the following extinction corrections for each filter:\n",
    "\n",
    "W2_F555W_Ext = W2_F555W - 0.36\n",
    "W2_F814W_Ext = W2_F814W - 0.20,\n",
    "\n",
    "and arrive at the final corrections for each filter:\n",
    "\n",
    "W2_F555W_Cor = W2_F555W - 0.53\n",
    "W2_F814W_Cor = W2_F814W - 0.37.\n",
    "\n",
    "\n",
    "  [1]: https://archive.stsci.edu/hst/hsc/help/FAQ/aperture_corrections.txt\n",
    "  [2]: http://dogwood.physics.mcmaster.ca/Acurve.html\n",
    "  [3]: http://adsabs.harvard.edu/abs/1998ApJ...500..525S"
   ]
  },
  {
   "cell_type": "code",
   "execution_count": null,
   "id": "0d75870c-2adf-41dd-b0bb-b96c8e9875dc",
   "metadata": {},
   "outputs": [],
   "source": []
  }
 ],
 "metadata": {
  "kernelspec": {
   "display_name": "stsci",
   "language": "python",
   "name": "stsci"
  },
  "language_info": {
   "codemirror_mode": {
    "name": "ipython",
    "version": 3
   },
   "file_extension": ".py",
   "mimetype": "text/x-python",
   "name": "python",
   "nbconvert_exporter": "python",
   "pygments_lexer": "ipython3",
   "version": "3.10.4"
  }
 },
 "nbformat": 4,
 "nbformat_minor": 5
}
