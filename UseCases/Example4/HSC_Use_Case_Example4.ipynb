{
 "cells": [
  {
   "cell_type": "markdown",
   "id": "b70ecd7d-b379-4fc7-b8ab-b7274d0749f7",
   "metadata": {},
   "source": [
    "# A Hubble Source Catalog (HSC) Use Case\n",
    "\n",
    "- [Example #4: Using the Discovery Portal to perform cross-matching between an input catalog and the HSC][1]\n",
    "  - (Search for HST data relevant to Supernova 2005cs in the galaxy M51)\n",
    "\n",
    "\n",
    "  [1]: https://archive.stsci.edu/hst/hsc/help/use_case_4_v1.html"
   ]
  },
  {
   "cell_type": "markdown",
   "id": "635c8334-2287-4552-b5ff-32d08e6373f2",
   "metadata": {},
   "source": [
    "<span style=\"color:red;\">Goal</span>: This tutorial shows you how to use the [MAST Discovery Portal][1] to perform cross-matching between an input catalog and the HSC. It also shows how to use the [Hubble Legacy Archive][2] to search for Hubble data that is not in the HSC.\n",
    "\n",
    "<span style=\"color:red;\">SCIENCE CASE</span>: The science case is to search for HST data relevant to a supernova (i.e. SN2005cs in the galaxy M51; see Maund et al. 2005, MNRAS, 364, 33, and Li et al. 2006, ApJ, 641, 1060).\n",
    "\n",
    "\n",
    "  [1]: https://mast.stsci.edu/portal/Mashup/Clients/Mast/Portal.html\n",
    "  [2]: https://hla.stsci.edu/"
   ]
  },
  {
   "cell_type": "markdown",
   "id": "834a7c9c-32b3-462b-8fdb-5a2f361e6a14",
   "metadata": {},
   "source": [
    "## <span style=\"color:red;\">Step 1</span>\n",
    "\n",
    "Create a catalog of objects to be cross-matched with the HSC. In this case, we want a catalog of known supernovae in 2005. This list was created using data from the IAU Central Bureau for Astronomical Telegrams. The list is in CSV format, and looks like this:\n",
    "\n",
    "```lang-none\n",
    "RA,Dec,Name,Host Galaxy\n",
    "37.68021,-2.93883,SN 2005A,NGC 958\n",
    "268.70342,71.54292,SN 2005B, UGC 11066\n",
    "168.87258,60.75153,SN 2005C, Anon.\n",
    "```\n",
    "\n",
    "There are 367 objects listed in the file, which are located all over the sky.\n",
    "\n",
    "NOTE: The coordinates for SN 2005c in the attached list have been changed from the IAU position to the improved position 202.4699167 47.17658333 (see discussion in Maund et al 2005, and Li et al. 2006)."
   ]
  },
  {
   "cell_type": "markdown",
   "id": "ee6a8c21-9483-4588-9b5c-5b10bf23df7e",
   "metadata": {},
   "source": [
    "## <span style=\"color:red;\">Step 2</span> - Go to the MAST Discovery Portal\n",
    "\n",
    "Upload the catalog by clicking on the  Upload File icon (blue). Use the browse button to find the supernova file you downloaded in Step 1, then click on the import button. The catalog now has its own tab (green), and the AstroView window shows the location of the first object in the catalog."
   ]
  },
  {
   "cell_type": "markdown",
   "id": "168707ce-e083-4bc0-ab38-2268958cac48",
   "metadata": {},
   "source": [
    "## <span style=\"color:red;\">Step 3</span> - Perform the cross-matching\n",
    "\n",
    "Click on the  icon (blue), which generates a popup where you can select the catalog (i.e. HSC; green) and matching radius (default of 3 arcsec; orange); see below for a discussion of the search radius. Click Cross-Match (yellow)."
   ]
  },
  {
   "cell_type": "markdown",
   "id": "c6e98703-3d45-4569-a1e1-23429a90d5a0",
   "metadata": {},
   "source": [
    "## <span style=\"color:red;\">Step 4</span> - Review the results\n",
    "\n",
    "There are 60 matches (blue), although there can be multiple HSC matches for any given supernova if there are several HSC objects within the 3 arcsec of the supernova position (e.g. in this case, there are two matches for SN 2005H, two for SN2005P, 10 for SN 2005V). Note that the RA, Dec, Name, and Host Galaxy columns from the input catalog (green) are at the beginning of the Cross-Match table, followed by information (such as the distance between the catalog position and the HSC position (orange)) from the HSC.\n",
    "\n",
    "\n",
    "\n",
    "If you scroll over in the table, you will see the Target Name from the HST observation. For example, lines 3 and 4 (blue) were given the name SN2005P, while lines 5-10 (green) were given the name of the galaxy. Note that this name is what the HST observer chose to call the object, so the name may not be useful in determining information about the target (e.g. the first target in the list is ambiguous)."
   ]
  },
  {
   "cell_type": "markdown",
   "id": "e9b79216-3c0d-437c-805b-57d0104b40ec",
   "metadata": {},
   "source": [
    "## <span style=\"color:red;\">Step 5</span> - Review the matches in AstroView\n",
    "\n",
    "Under Filters on the left, the Name box shows you how many matches each supernova had with an HSC object (blue); click on the \"Show 16 more\" button to see the complete list of the 21 (out of the 367) objects that had matches.\n",
    "\n",
    "Clicking on the Focus button  icon (green) will center the object in the AstroView window (in this case SN 2005P). It's interesting to browse through some to see the locations of the supernovae in their galaxies. If you zoom the AstroView display, you can see both the HSC object(s) (in blue) and the position of the supernova (in orange) shown with different color symbols (yellow)."
   ]
  },
  {
   "cell_type": "markdown",
   "id": "aeb15fc5-9385-4da3-b7d4-b9d7570735ae",
   "metadata": {},
   "source": [
    "## <span style=\"color:red;\">Step 6</span> - Examine the HST data for SN 2005cs in detail\n",
    "\n",
    "Click on the 2005cs button (blue) to restrict the data to just this object. We find that there are 10 matches. If you scroll over to the right you will find that line 4 has NumImage = 9, while the others have NumImages between 1 and 5. Lets look at the detailed information for line 4 by clicking the Load Detailed Results  icon on that row (green).\n",
    "\n",
    "\n",
    "This creates a new tab (blue), and presents cutout preview images for each member of the match (green). Hover over the cutout and it will tell you the name of the image, in this case hst_12762_a6_wfc3_uvis_f689m. There are five measurements with WFPC2 and four WFC3 measurements (orange) for this object, MatchID = 3972863. The WFC3 observations might be of particular interest since they were taken after the images discussed in the Maund et al. (2005) and Li et al. (2006) papers."
   ]
  },
  {
   "cell_type": "markdown",
   "id": "d13dd224-896f-41d1-ab36-34efc553af6c",
   "metadata": {},
   "source": [
    "## <span style=\"color:red;\">Step 7</span> - Compare with Li et al. (2006)\n",
    "\n",
    "Click on the Toggle Overlay Image  icon (yellow in the image above) to overlay the Hubble image in AstroView. Another option is to click on the cutout preview image (green) itself to bring up the HLA Interactive Display, which provides more flexibility for viewing the image (e.g., changing the contrast level), although you will need to use the RA and DEC to find the object.\n",
    "\n",
    "When you zoom in with AstroView, you can see the 10 potential matches (blue squares) to the original search position (orange square). The match that we selected is shown by the light blue square, and turns out to be very close to the position of SN2005cs, as shown by comparison with the Li et al. (2006) image below.\n",
    "\n",
    "\n",
    "\n",
    "\n",
    "Note that the Li et al.(2006) paper (and Maund et al. (2005) primarily used ACS observations, which are NOT INCLUDED IN THE HSC. This is an important point, that while the HSC is a useful way to look for HST data, users should not assume there is no other data in the HLA if it is not listed in the HSC. In Step 8 we show how to make a more detailed evaluation of exisiting data using the HLA."
   ]
  },
  {
   "cell_type": "markdown",
   "id": "d688cdeb-6597-4f5a-b474-8d2c7ffed39a",
   "metadata": {},
   "source": [
    "## <span style=\"color:red;\">Step 8</span> - Go to the HLA to search for related data\n",
    "\n",
    "Enter the coordinates (202.4699167 47.17658333) for SN2005cs into the search box (blue); click on advanced search (green); then click on cutouts (orange), and then search to see the Inventory. Click on the Images button (yellow) to view the cutouts.\n",
    "\n",
    "\n",
    "\n",
    "Here are some of the cutouts, including HST_10498_01_ACS_HRC_F555W that has the supernova itself! This is around cutout #350 if you want to find it. It is not included in the HSC because it is an ACS/HRC image. Source lists for this detector will be added to the HSC in the future.\n",
    "\n",
    "\n",
    "\n",
    "There are 824 images returned from the HLA search, though in many cases the \"Cutout position is outside image\". You can reduce the number to look at by going to the inventory view and selecting a subset (e.g., by putting *acs* in the box under Detector and clicking)."
   ]
  },
  {
   "cell_type": "markdown",
   "id": "4839b1fa-dbc2-49ed-9e47-0cb52e68d7ee",
   "metadata": {},
   "source": [
    "Search Radius selection - The selection of the search size can be tricky, and depends on the science you are trying to accomplish. For this case, we want a radius large enough to find all the galaxies that have HST data, but small enough to not give you HSC objects that are not part of the galaxy. One approach is to start with a large search radius (say 20\") and then try smaller ones until you start loosing cases you would like to keep. Note that a more typical search radius (e.g., for matching stellar fields) is ~0.2\", which is roughly the accuracy of the absolute astrometry for the HSC.\n",
    "Return to Step 3."
   ]
  }
 ],
 "metadata": {
  "kernelspec": {
   "display_name": "stsci",
   "language": "python",
   "name": "stsci"
  },
  "language_info": {
   "codemirror_mode": {
    "name": "ipython",
    "version": 3
   },
   "file_extension": ".py",
   "mimetype": "text/x-python",
   "name": "python",
   "nbconvert_exporter": "python",
   "pygments_lexer": "ipython3",
   "version": "3.10.4"
  }
 },
 "nbformat": 4,
 "nbformat_minor": 5
}
