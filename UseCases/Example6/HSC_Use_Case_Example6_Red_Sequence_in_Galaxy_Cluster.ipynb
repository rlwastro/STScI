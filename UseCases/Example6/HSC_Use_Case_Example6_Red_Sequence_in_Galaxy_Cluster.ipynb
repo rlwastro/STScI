{
 "cells": [
  {
   "cell_type": "markdown",
   "id": "439d7f6e-94b7-4041-996d-28136b43ee5d",
   "metadata": {},
   "source": [
    "# Helpful Information\n",
    "\n",
    "- https://stackoverflow.com/q/54116787/7758804\n",
    "- https://stackoverflow.com/q/39008262/7758804\n",
    "- https://openastronomy.org/rcsc18/chapters/13-images-in-astronomy/01-images-in-astronomy\n",
    "- https://learn.astropy.org/\n",
    "- https://outerspace.stsci.edu/display/PANSTARRS/PS1+Image+Cutout+Service\n",
    "  - [Image][1]\n",
    "  - http://ps1images.stsci.edu/cgi-bin/ps1cutouts\n",
    "- [Get Image Notebook][2]\n",
    "  \n",
    "  \n",
    "  \n",
    "  [1]: https://ps1images.stsci.edu/cgi-bin/fitscut.cgi?red=/rings.v3.skycell/1756/040/rings.v3.skycell.1756.040.stk.i.unconv.fits&blue=/rings.v3.skycell/1756/040/rings.v3.skycell.1756.040.stk.g.unconv.fits&green=/rings.v3.skycell/1756/040/rings.v3.skycell.1756.040.stk.r.unconv.fits&x=328.397920&y=17.686670&size=2880&wcs=1&asinh=True&autoscale=99.750000&output_size=1024\n",
    "  [2]: https://ps1images.stsci.edu/ps1image.html"
   ]
  },
  {
   "cell_type": "raw",
   "id": "58ba5d8c-71c7-4f43-99ad-a4c03fb1a759",
   "metadata": {},
   "source": [
    "from astropy.coordinates import SkyCoord\n",
    "from astropy.utils.data import get_pkg_data_filename"
   ]
  },
  {
   "cell_type": "raw",
   "id": "0e887c79-c696-4fb3-a475-49bbd39929de",
   "metadata": {},
   "source": [
    "SkyCoord.from_name('Abell 2390')"
   ]
  },
  {
   "cell_type": "markdown",
   "id": "6e060337-3162-42fb-8f3e-5a0afc528ecb",
   "metadata": {},
   "source": [
    "# Testing with the HSC API: Working"
   ]
  },
  {
   "cell_type": "code",
   "execution_count": null,
   "id": "96e45e17-1d43-46ad-b04a-4700dc54765d",
   "metadata": {},
   "outputs": [],
   "source": [
    "import astropy\n",
    "from astropy.coordinates import SkyCoord\n",
    "import time\n",
    "import sys\n",
    "import os\n",
    "import requests\n",
    "import json\n",
    "import numpy as np\n",
    "import matplotlib.pyplot as plt\n",
    "import seaborn as sns\n",
    "import pandas as pd\n",
    "\n",
    "from PIL import Image\n",
    "from io import BytesIO\n",
    "\n",
    "from astropy.table import Table, join\n",
    "from astropy.io import ascii\n",
    "\n",
    "# set width for pprint\n",
    "astropy.conf.max_width = 150"
   ]
  },
  {
   "cell_type": "code",
   "execution_count": null,
   "id": "68bf7083-1272-4a15-a872-20a13554471f",
   "metadata": {},
   "outputs": [],
   "source": [
    "pd.set_option('display.max_columns', 700)\n",
    "pd.set_option('display.max_rows', 400)\n",
    "pd.set_option('display.min_rows', 10)\n",
    "pd.set_option('display.expand_frame_repr', True)"
   ]
  },
  {
   "cell_type": "markdown",
   "id": "451808d6-143b-4753-8ad5-128fd8443a35",
   "metadata": {},
   "source": [
    "### Useful functions\n",
    "\n",
    "* The `hcvcone(ra,dec,radius [,keywords])` function searches the HCV catalog near a position.\n",
    "* The `hcvsearch()` function performs general non-positional queries.\n",
    "* The `hcvmetadata()` function gives information about the columns available in a table."
   ]
  },
  {
   "cell_type": "code",
   "execution_count": null,
   "id": "282020f0-a8e1-41f7-ad0e-d3aea592a972",
   "metadata": {},
   "outputs": [],
   "source": [
    "hscapiurl = \"https://catalogs.mast.stsci.edu/api/v0.1/hsc\"\n",
    "\n",
    "\n",
    "def hcvcone(ra, dec, radius, table=\"hcvsummary\", release=\"v3\", format=\"csv\", magtype=\"magaper2\",\n",
    "            columns=None, baseurl=hscapiurl, verbose=False, **kw):\n",
    "    \"\"\"Do a cone search of the HSC catalog (including the HCV)\n",
    "    \n",
    "    Parameters\n",
    "    ----------\n",
    "    ra (float): (degrees) J2000 Right Ascension\n",
    "    dec (float): (degrees) J2000 Declination\n",
    "    radius (float): (degrees) Search radius (<= 0.5 degrees)\n",
    "    table (string): hcvsummary, hcv, summary, detailed, propermotions, or sourcepositions\n",
    "    release (string): v3 or v2\n",
    "    magtype (string): magaper2 or magauto (only applies to summary table)\n",
    "    format: csv, votable, json\n",
    "    columns: list of column names to include (None means use defaults)\n",
    "    baseurl: base URL for the request\n",
    "    verbose: print info about request\n",
    "    **kw: other parameters (e.g., 'numimages.gte':2)\n",
    "    \"\"\"\n",
    "    \n",
    "    data = kw.copy()\n",
    "    data['ra'] = ra\n",
    "    data['dec'] = dec\n",
    "    data['radius'] = radius\n",
    "    return hcvsearch(table=table, release=release, format=format, magtype=magtype,\n",
    "                     columns=columns, baseurl=baseurl, verbose=verbose, **data)\n",
    "\n",
    "\n",
    "def hcvsearch(table=\"hcvsummary\", release=\"v3\", magtype=\"magaper2\", format=\"csv\",\n",
    "              columns=None, baseurl=hscapiurl, verbose=False, **kw):\n",
    "    \"\"\"Do a general search of the HSC catalog (possibly without ra/dec/radius)\n",
    "    \n",
    "    Parameters\n",
    "    ----------\n",
    "    table (string): hcvsummary, hcv, summary, detailed, propermotions, or sourcepositions\n",
    "    release (string): v3 or v2\n",
    "    magtype (string): magaper2 or magauto (only applies to summary table)\n",
    "    format: csv, votable, json\n",
    "    columns: list of column names to include (None means use defaults)\n",
    "    baseurl: base URL for the request\n",
    "    verbose: print info about request\n",
    "    **kw: other parameters (e.g., 'numimages.gte':2).  Note this is required!\n",
    "    \"\"\"\n",
    "    \n",
    "    data = kw.copy()\n",
    "    if not data:\n",
    "        raise ValueError(\"You must specify some parameters for search\")\n",
    "    if format not in (\"csv\", \"votable\", \"json\"):\n",
    "        raise ValueError(\"Bad value for format\")\n",
    "    url = f\"{cat2url(table, release, magtype, baseurl=baseurl)}.{format}\"\n",
    "    if columns:\n",
    "        # check that column values are legal\n",
    "        # create a dictionary to speed this up\n",
    "        dcols = {}\n",
    "        for col in hcvmetadata(table, release, magtype)['name']:\n",
    "            dcols[col.lower()] = 1\n",
    "        badcols = []\n",
    "        for col in columns:\n",
    "            if col.lower().strip() not in dcols:\n",
    "                badcols.append(col)\n",
    "        if badcols:\n",
    "            raise ValueError(f\"Some columns not found in table: {', '.join(badcols)}\")\n",
    "        # two different ways to specify a list of column values in the API\n",
    "        # data['columns'] = columns\n",
    "        data['columns'] = f\"[{','.join(columns)}]\"\n",
    "\n",
    "    # either get or post works\n",
    "    # r = requests.post(url, data=data)\n",
    "    r = requests.get(url, params=data)\n",
    "\n",
    "    if verbose:\n",
    "        print(r.url)\n",
    "    r.raise_for_status()\n",
    "    if format == \"json\":\n",
    "        return r.json()\n",
    "    else:\n",
    "        return r.text\n",
    "\n",
    "\n",
    "def hcvmetadata(table=\"hcvsummary\", release=\"v3\", magtype=\"magaper2\", baseurl=hscapiurl):\n",
    "    \"\"\"Return metadata for the specified catalog and table\n",
    "    \n",
    "    Parameters\n",
    "    ----------\n",
    "    table (string): hcvsummary, hcv, summary, detailed, propermotions, or sourcepositions\n",
    "    release (string): v3 or v2\n",
    "    magtype (string): magaper2 or magauto (only applies to summary table)\n",
    "    baseurl: base URL for the request\n",
    "    \n",
    "    Returns an astropy table with columns name, type, description\n",
    "    \"\"\"\n",
    "    url = f\"{cat2url(table,release,magtype,baseurl=baseurl)}/metadata\"\n",
    "    r = requests.get(url)\n",
    "    r.raise_for_status()\n",
    "    v = r.json()\n",
    "    # convert to astropy table\n",
    "    tab = Table(rows=[(x['name'], x['type'], x['description']) for x in v],\n",
    "                names=('name', 'type', 'description'))\n",
    "    return tab\n",
    "\n",
    "\n",
    "def cat2url(table=\"hcvsummary\", release=\"v3\", magtype=\"magaper2\", baseurl=hscapiurl):\n",
    "    \"\"\"Return URL for the specified catalog and table\n",
    "    \n",
    "    Parameters\n",
    "    ----------\n",
    "    table (string): hcvsummary, hcv, summary, detailed, propermotions, or sourcepositions\n",
    "    release (string): v3 or v2\n",
    "    magtype (string): magaper2 or magauto (only applies to summary table)\n",
    "    baseurl: base URL for the request\n",
    "    \n",
    "    Returns a string with the base URL for this request\n",
    "    \"\"\"\n",
    "    checklegal(table, release, magtype)\n",
    "    if table == \"summary\":\n",
    "        url = f\"{baseurl}/{release}/{table}/{magtype}\"\n",
    "    else:\n",
    "        url = f\"{baseurl}/{release}/{table}\"\n",
    "    return url\n",
    "\n",
    "\n",
    "def checklegal(table, release, magtype):\n",
    "    \"\"\"Checks if this combination of table, release and magtype is acceptable\n",
    "    \n",
    "    Raises a ValueError exception if there is problem\n",
    "    \"\"\"\n",
    "    \n",
    "    releaselist = (\"v2\", \"v3\")\n",
    "    if release not in releaselist:\n",
    "        raise ValueError(f\"Bad value for release (must be one of {', '.join(releaselist)})\")\n",
    "    if release == \"v2\":\n",
    "        tablelist = (\"summary\", \"detailed\")\n",
    "    else:\n",
    "        tablelist = (\"summary\", \"detailed\", \"propermotions\", \"sourcepositions\", \"hcvsummary\", \"hcv\")\n",
    "    if table not in tablelist:\n",
    "        raise ValueError(f\"Bad value for table (for {release} must be one of {', '.join(tablelist)})\")\n",
    "    if table == \"summary\":\n",
    "        magtypelist = (\"magaper2\", \"magauto\")\n",
    "        if magtype not in magtypelist:\n",
    "            raise ValueError(f\"Bad value for magtype (must be one of {', '.join(magtypelist)})\")"
   ]
  },
  {
   "cell_type": "markdown",
   "id": "426a3bb2-c796-4ebc-add6-393e98c064a9",
   "metadata": {},
   "source": [
    "## Variable objects near Adell 2390"
   ]
  },
  {
   "cell_type": "markdown",
   "id": "e9172198-c8e8-4872-a5ff-845f7ae0d32a",
   "metadata": {},
   "source": [
    "### Use SkyCoord name resolver to get the position of Adell 2390"
   ]
  },
  {
   "cell_type": "raw",
   "id": "820f743e-24a6-4b98-9138-94bc1e13431a",
   "metadata": {},
   "source": [
    "target = 'Abell 2390'\n",
    "coord_adell2390 = SkyCoord.from_name(target)\n",
    "\n",
    "ra_adell2390 = coord_adell2390.ra.degree\n",
    "dec_adell2390 = coord_adell2390.dec.degree\n",
    "print(f'ra: {ra_adell2390}\\ndec: {dec_adell2390}')"
   ]
  },
  {
   "cell_type": "raw",
   "id": "2bad5015-ddb7-43b7-8044-c6eb50c8f6f4",
   "metadata": {},
   "source": [
    "radius = 0.2 # degrees\n",
    "cone = hcvcone(ra_adell2390, dec_adell2390, radius, table=\"summary\")\n",
    "tab = ascii.read(cone)\n",
    "df = tab.to_pandas()\n",
    "df.head()"
   ]
  },
  {
   "cell_type": "raw",
   "id": "d3d7e3c2-4ec1-46d9-a01a-b2131efd98a0",
   "metadata": {},
   "source": [
    "g = sns.relplot(data=df, x='MatchRA', y='MatchDec', color='purple', height=10,\n",
    "                hue='TargetName', hue_order=sorted(df.TargetName.unique()), alpha=.5)\n",
    "\n",
    "for ax in g.axes.ravel():\n",
    "    ax.invert_xaxis()"
   ]
  },
  {
   "cell_type": "markdown",
   "id": "152d9eed-a462-468e-bed3-ea578524a532",
   "metadata": {},
   "source": [
    "# Testing with mastcasjobs Implementation"
   ]
  },
  {
   "cell_type": "raw",
   "id": "1bb2eefd-00a2-4b49-aa7c-1c242d212e03",
   "metadata": {},
   "source": [
    "import astropy\n",
    "from astropy.coordinates import SkyCoord\n",
    "import time\n",
    "import sys\n",
    "import os\n",
    "import requests\n",
    "import json\n",
    "import numpy as np\n",
    "import matplotlib.pyplot as plt\n",
    "\n",
    "from PIL import Image\n",
    "from io import BytesIO\n",
    "\n",
    "from astropy.table import Table, join\n",
    "\n",
    "# check that version of mastcasjobs is new enough\n",
    "# we are using some features not in version 0.0.1\n",
    "from pkg_resources import get_distribution\n",
    "from packaging.version import Version as V\n",
    "\n",
    "assert V(get_distribution(\"mastcasjobs\").version) >= V('0.0.2'), \"\"\"\n",
    "A newer version of mastcasjobs is required.\n",
    "Update mastcasjobs to current version using this command:\n",
    "pip install --upgrade git+git://github.com/rlwastro/mastcasjobs@master\n",
    "\"\"\"\n",
    "\n",
    "import mastcasjobs\n",
    "\n",
    "# set width for pprint\n",
    "astropy.conf.max_width = 150"
   ]
  },
  {
   "cell_type": "raw",
   "id": "69d3ddd9-8e4b-4133-a8a7-f214d0a4ef22",
   "metadata": {},
   "source": [
    "HSCContext = \"HSCv3\""
   ]
  },
  {
   "cell_type": "markdown",
   "id": "538b3c65-3122-45a4-950c-cdf82b86d7a0",
   "metadata": {},
   "source": [
    "Set up Casjobs environment."
   ]
  },
  {
   "cell_type": "raw",
   "id": "a24a6561-926e-41da-a8e8-6ecfc11d0781",
   "metadata": {},
   "source": [
    "import getpass\n",
    "if not os.environ.get('CASJOBS_USERID'):\n",
    "    os.environ['CASJOBS_USERID'] = input('Enter Casjobs UserID:')\n",
    "if not os.environ.get('CASJOBS_PW'):\n",
    "    os.environ['CASJOBS_PW'] = getpass.getpass('Enter Casjobs password:')"
   ]
  },
  {
   "cell_type": "markdown",
   "id": "427908bd-5feb-48ec-a713-65aab4f72c97",
   "metadata": {},
   "source": [
    "## Variable objects near Adell 2390"
   ]
  },
  {
   "cell_type": "markdown",
   "id": "bf6ff513-4fef-4165-b092-b0097ccfb1d7",
   "metadata": {},
   "source": [
    "### Use SkyCoord name resolver to get the position of Adell 2390"
   ]
  },
  {
   "cell_type": "raw",
   "id": "ae46c249-970f-4428-94c5-bf01892082ac",
   "metadata": {},
   "source": [
    "target = 'Abell 2390'\n",
    "coord_adell2390 = SkyCoord.from_name(target)\n",
    "\n",
    "ra_adell2390 = coord_adell2390.ra.degree\n",
    "dec_adell2390 = coord_adell2390.dec.degree\n",
    "print(f'ra: {ra_adell2390}\\ndec: {dec_adell2390}')"
   ]
  },
  {
   "cell_type": "raw",
   "id": "20e6b128-5bdd-439c-a97b-11d6f268682f",
   "metadata": {},
   "source": [
    "HSCContext = \"HSCv3\"\n",
    "\n",
    "DBtable = \"summary\"\n",
    "jobs = mastcasjobs.MastCasJobs(context=\"MyDB\")\n",
    "\n",
    "# drop table if it already exists\n",
    "jobs.drop_table_if_exists(DBtable)\n",
    "\n",
    "# get main information\n",
    "radius = 720 # arcsec\n",
    "query = f\"\"\"\n",
    "select MatchID, TargetName, MatchRA, MatchDec, CI, W2_F555W, W2_F814W\n",
    "into mydb.{DBtable}\n",
    "from SearchSumCatalog({ra_adell2390},{dec_adell2390},{radius},1)\n",
    "\"\"\"\n",
    "\n",
    "# add the following line at the bottom of the query, to filter the results\n",
    "# where W2_F555W is not null and W2_F814W is not null\n",
    "\n",
    "t0 = time.time()\n",
    "results = jobs.quick(query, task_name=\"HCV demo\", context=HSCContext)\n",
    "\n",
    "print(f\"Completed in {(time.time()-t0):.1f} sec\")\n",
    "print(results)\n",
    "\n",
    "# fast retrieval using special MAST Casjobs service\n",
    "tab = jobs.fast_table(DBtable, verbose=True)\n",
    "\n",
    "# clean up the output format\n",
    "tab['W2_F555W'].format = \"{:.3f}\"\n",
    "tab['W2_F814W'].format = \"{:.3f}\"\n",
    "tab['CI'].format = \"{:.3f}\"\n",
    "tab['MatchRA'].format = \"{:.6f}\"\n",
    "tab['MatchDec'].format = \"{:.6f}\"\n",
    "\n",
    "tab = tab.to_pandas()\n",
    "tab.head()"
   ]
  },
  {
   "cell_type": "raw",
   "id": "3764de1b-748d-4ed8-98d7-48535313f4fb",
   "metadata": {},
   "source": [
    "g = sns.relplot(data=tab, x='MatchRA', y='MatchDec', color='purple', height=10,\n",
    "                hue='TargetName', hue_order=sorted(tab.TargetName.unique()), alpha=.5)\n",
    "\n",
    "for ax in g.axes.ravel():\n",
    "    ax.invert_xaxis()"
   ]
  },
  {
   "cell_type": "raw",
   "id": "16cbadc7-1b94-4cbb-acac-3fc01a9710e6",
   "metadata": {},
   "source": [
    "reduced = tab.dropna(subset=['W2_F555W', 'W2_F814W'])\n",
    "\n",
    "g = sns.relplot(data=reduced, x='MatchRA', y='MatchDec', color='purple', height=10, hue='TargetName', alpha=.5)\n",
    "\n",
    "for ax in g.axes.ravel():\n",
    "    ax.invert_xaxis()"
   ]
  },
  {
   "cell_type": "markdown",
   "id": "3c3d30e1-e73d-46cb-8ea4-7e528a4b88ab",
   "metadata": {
    "tags": []
   },
   "source": [
    "# A Hubble Source Catalog (HSC) Use Case\n",
    "\n",
    "- [Example 6][1]: Using the Discovery Portal to study the Red Sequence in a Galaxy Cluster\n",
    "- (The Red Sequence in the Galaxy Cluster Abell 2390)\n",
    "\n",
    "\n",
    "  [1]: https://archive.stsci.edu/hst/hsc/help/use_case_6_v1.html"
   ]
  },
  {
   "cell_type": "markdown",
   "id": "dc4c1763-0aaf-4360-9b65-b117f12bc854",
   "metadata": {},
   "source": [
    "<span style=\"color:red;\">GOAL</span>: This tutorial shows you how to use the [MAST Discovery Portal][1] to create a Color-Magnitude diagram of extended sources.\n",
    "\n",
    "<span style=\"color:red;\">SCIENCE CASE</span>: The science case is to isolate the red sequence - a color-magnitude relation for elliptical and lenticular galaxies in clusters of galaxies - in a cluster well observed by HST (i.e. Abell 2390 at z=0.2; see [Gladders and Yee 2000, AJ, 120, 2148][2]). Aperture corrections and extinction corrections are also performed.\n",
    "Other potential use cases could include testing cluster evolution via the change in the slope of the red sequence, and identifying other clusters with pronounced red sequences.\n",
    "\n",
    "\n",
    "  [1]: http://mast.stsci.edu/portal/Mashup/Clients/Mast/Portal.html\n",
    "  [2]: https://ui.adsabs.harvard.edu/abs/2000AJ....120.2148G/abstract"
   ]
  },
  {
   "cell_type": "markdown",
   "id": "434ed0d8-3b68-4826-9dfb-6561a470d9f3",
   "metadata": {
    "tags": []
   },
   "source": [
    "## <span style=\"color:red;\">Step 1</span> - Go to the [MAST Discovery Portal][1].\n",
    "\n",
    "Use the pull down menu under Select Collection to choose the HSC (<span style=\"color:blue;\">blue</span>). Enter the name of the cluster (or if you prefer the coordinates) and search radius (i.e. Abell 2390 r=0.2d) in the Search box (<span style=\"color:green;\">green</span>). Perform the search by just hitting a carriage return. The results are displayed in the List of Objects, while the AstroView window shows the objects against the DSS image. The left column is a series of Filters that can be used to refine the data selected.\n",
    "\n",
    "![redesequence_1][2]\n",
    "\n",
    "\n",
    "  [1]: http://mast.stsci.edu/portal/Mashup/Clients/Mast/Portal.html\n",
    "  [2]: screenshots/redsequence_1.png"
   ]
  },
  {
   "cell_type": "markdown",
   "id": "bc8c5e70-17f2-4c2c-8d63-643902015d64",
   "metadata": {},
   "source": [
    "### Use SkyCoord name resolver to get the position of Adell 2390"
   ]
  },
  {
   "cell_type": "code",
   "execution_count": null,
   "id": "1c3ca272-e3e2-4004-a650-32a36b822522",
   "metadata": {},
   "outputs": [],
   "source": [
    "target = 'Abell 2390'\n",
    "coord_adell2390 = SkyCoord.from_name(target)\n",
    "\n",
    "ra_adell2390 = coord_adell2390.ra.degree\n",
    "dec_adell2390 = coord_adell2390.dec.degree\n",
    "print(f'ra: {ra_adell2390}\\ndec: {dec_adell2390}')"
   ]
  },
  {
   "cell_type": "markdown",
   "id": "78b73cb9-8686-45a1-950d-3e9cff08c0ac",
   "metadata": {},
   "source": [
    "### Cone search with HSC API"
   ]
  },
  {
   "cell_type": "code",
   "execution_count": null,
   "id": "e4d2db9b-613a-423b-81c5-a0a133221b71",
   "metadata": {},
   "outputs": [],
   "source": [
    "radius = 0.2 # degrees\n",
    "cone = hcvcone(ra_adell2390, dec_adell2390, radius, table=\"summary\")\n",
    "tab = ascii.read(cone)\n",
    "df = tab.to_pandas()\n",
    "df.head()"
   ]
  },
  {
   "cell_type": "code",
   "execution_count": null,
   "id": "ba007561-269e-4cd3-ac7b-f042c416e95b",
   "metadata": {},
   "outputs": [],
   "source": [
    "# number of observations\n",
    "len(df)"
   ]
  },
  {
   "cell_type": "code",
   "execution_count": null,
   "id": "4d819fd5-7152-4e80-ade7-4a24aed7d2c9",
   "metadata": {},
   "outputs": [],
   "source": [
    "g = sns.relplot(data=df, x='MatchRA', y='MatchDec', color='purple', height=10, \n",
    "                hue='TargetName', hue_order=sorted(df.TargetName.unique()), alpha=.5)\n",
    "for ax in g.axes.ravel():\n",
    "    ax.invert_xaxis()"
   ]
  },
  {
   "cell_type": "markdown",
   "id": "edf4d651-b5a0-49ed-aca5-6f707654da99",
   "metadata": {},
   "source": [
    "## <span style=\"color:red;\">Step 2</span> - Refine the sample.\n",
    "\n",
    "The HSC includes both compact (point) and extended sources, as well as a few residual cosmic rays and image artifacts. Since we are looking for galaxies (i.e. extended sources), we want to remove as many point sources as possible. Scroll down the Filters section (<span style=\"color:blue;\">blue</span>) to the CI (Concentration Index) area and set the lower limit to be 1.3 by either moving the slider or typing in the value (<span style=\"color:green;\">green</span>). Note that about 1/3 of the objects have been rejected (<span style=\"color:orange;\">orange</span>).\n",
    "\n",
    "![redsequence_2][1]\n",
    "\n",
    "\n",
    "  [1]: screenshots/redsequence_2.png"
   ]
  },
  {
   "cell_type": "markdown",
   "id": "6038df81-5f6f-4636-98eb-82221e4adab6",
   "metadata": {},
   "source": [
    "### Filter the DataFrame by `'CI'`"
   ]
  },
  {
   "cell_type": "code",
   "execution_count": null,
   "id": "6710e2b5-ad10-4ef3-90d9-fb5ea1df186b",
   "metadata": {},
   "outputs": [],
   "source": [
    "df = df[df.CI.gt(1.3)]"
   ]
  },
  {
   "cell_type": "code",
   "execution_count": null,
   "id": "809d55ff-f4d3-40e5-b128-8fbf2a71536d",
   "metadata": {},
   "outputs": [],
   "source": [
    "len(df)"
   ]
  },
  {
   "cell_type": "code",
   "execution_count": null,
   "id": "ce6c752d-137b-4172-906e-1da813a4f232",
   "metadata": {},
   "outputs": [],
   "source": [
    "g = sns.relplot(data=df, x='MatchRA', y='MatchDec', height=10, hue='TargetName',\n",
    "                hue_order=sorted(df.TargetName.unique()), alpha=.5)\n",
    "for ax in g.axes.ravel():\n",
    "    ax.invert_xaxis()"
   ]
  },
  {
   "cell_type": "markdown",
   "id": "b5ba400c-0931-43aa-9890-5b9c11103e0e",
   "metadata": {},
   "source": [
    "## <span style=\"color:red;\">Step 3</span> - Determine the HSC magnitudes corrections.\n",
    "\n",
    "To make our Color-Magnitude diagram, we need to correct the magnitude values for the V (W2_F555W = WFPC2 F555W) and I (W2_F814W = WFPC2 F814W) to infinite aperture magnitudes for better comparison, and correct for Galactic extinction along the line of sight.\n",
    "\n",
    "Approximate aperture corrections can be taken from the [aperture corrections table][1], or estimated from the encircled energy curves provided by the instrument teams. For both filters, the aperture corrections are 0.17 mag, or:\n",
    "\n",
    "W2_F555W_Inf = W2_F555W - 0.17\n",
    "W2_F814W_Inf = W2_F814W - 0.17.\n",
    "\n",
    "Extinction correction is best estimated using an absorption calculator, like [Doug's Excellent Absorption Law Calculator][2]. The HSC table includes a column labeled Extinction, which is the Schlegel, Finkbeiner, & Davis 1998 ([ApJ, 500, 525, 1998][3]) E(B-V)=0.114 map value at that position. Using the absorption law calculator, with R_V = 3.1, and A_V = E(B-V) x R_V = 0.353, and assuming target wavelength equal to the pivot wavelength for each filter, or:\n",
    "\n",
    "W_V = 0.535 (um)\n",
    "W_I = 0.820 (um).\n",
    "\n",
    "We get the following extinction corrections for each filter:\n",
    "\n",
    "W2_F555W_Ext = W2_F555W - 0.36\n",
    "W2_F814W_Ext = W2_F814W - 0.20,\n",
    "\n",
    "and arrive at the final corrections for each filter:\n",
    "\n",
    "W2_F555W_Cor = W2_F555W - 0.53\n",
    "W2_F814W_Cor = W2_F814W - 0.37.\n",
    "\n",
    "\n",
    "  [1]: https://archive.stsci.edu/hst/hsc/help/FAQ/aperture_corrections.txt\n",
    "  [2]: http://dogwood.physics.mcmaster.ca/Acurve.html\n",
    "  [3]: http://adsabs.harvard.edu/abs/1998ApJ...500..525S"
   ]
  },
  {
   "cell_type": "markdown",
   "id": "a5c623b8-d171-4d04-9e6d-2d1ab480011e",
   "metadata": {},
   "source": [
    "## <span style=\"color:red;\">Step 4</span> - Create new Magnitude and Color columns\n",
    "\n",
    "To correct the magnitudes, we will create new columns and apply the corrections determined above. Click on the ![icon][1] icon (<span style=\"color:blue;\">blue</span>). In the popup, select the first value to be \"W2_F555W\", the operation to be \"x+c\", and the constant to be \"-0.53\"; enter the name as VC (V corrected).\n",
    "\n",
    "![redsequence_3][2]\n",
    "\n",
    "Do the same thing to make the corrected W2_F814W (I) magnitude. Finally, we need to create the VC-IC color by selecting \"VC\", \"-\", \"IC\", and \"VC-IC\".\n",
    "\n",
    "\n",
    "  [1]: screenshots/new_column.png\n",
    "  [2]: screenshots/redsequence_3.png"
   ]
  },
  {
   "cell_type": "code",
   "execution_count": null,
   "id": "ad7edbc1-6f71-41f0-b2f3-4aed50cfa024",
   "metadata": {},
   "outputs": [],
   "source": [
    "df['VC'] = df['W2_F555W'].sub(0.53)\n",
    "df['IC'] = df['W2_F814W'].sub(0.37)\n",
    "\n",
    "df['VC-IC'] = df['VC'].sub(df['IC'])\n",
    "\n",
    "df[['VC', 'IC', 'VC-IC']].tail()"
   ]
  },
  {
   "cell_type": "code",
   "execution_count": null,
   "id": "16831854-87c3-4634-9eaf-066f3ef0875a",
   "metadata": {},
   "outputs": [],
   "source": [
    "# drop nan rows\n",
    "df = df.dropna(subset=['VC', 'IC', 'VC-IC'])\n",
    "\n",
    "display(df.head())\n",
    "len(df)"
   ]
  },
  {
   "cell_type": "markdown",
   "id": "d25ae5fa-3ef9-4aac-805c-25a24ecb84fa",
   "metadata": {},
   "source": [
    "## <span style=\"color:red;\">Step 5</span> - Make the Color-Magnitude Diagram\n",
    "\n",
    "Select the ![chart][1] icon (<span style=\"color:blue;\">blue</span>). Set X = IC and Y = VC-IC (<span style=\"color:green;\">green</span>). Click on the Update Series button (<span style=\"color:orange;\">orange</span>) to plot the diagram.\n",
    "\n",
    "![redsequence_4][2]\n",
    "\n",
    "There is clear sequence of sources near the middle of the diagram running with a negative slope. A linear regression fit feature may be added in future Discovery Portal versions, but for now one can estimate the slope of the sequence from the grid, or by moving the cursor within the plot, and find it consistent with m=-0.04. This is the slope of the red sequence expected from clusters in the z=0.2 range, as shown in Gladders & Yee 2000, Figure 2.\n",
    "\n",
    "A more exact value of the slope could be obtained by downloading the table using the ![export][3] icon, and employing whatever program you use to perform linear regression fits (e.g., using Python and 3-sigma clipping, we get a value of -0.042 +/- 0.007, which is in good agreement with the value of -0.037 +/- 0.0042 from [Gladders et. al. 1998, ApJ, 501, 571][4]).\n",
    "\n",
    "The HSC figure is shifted slightly relative to the Gladders et al. plot since the HSC uses ABMAG and Gladders uses STMAG magnitudes. The conversion equations are\n",
    "\n",
    "W2_F555W(STmag) = W2_F555W(AB) - 0.108\n",
    "W2_F814W(STmag) = W2_F814W(AB) + 0.824.\n",
    "\n",
    "obtainable using stsdas.synphot, see also the [WFPC2 Photometry FAQ][5].\n",
    "\n",
    "![redsequence_5][6]\n",
    "\n",
    "\n",
    "  [1]: screenshots/chart.png\n",
    "  [2]: screenshots/redsequence_4.png\n",
    "  [3]: screenshots/export.png\n",
    "  [4]: http://adsabs.harvard.edu/abs/1998ApJ...501..571G\n",
    "  [5]: http://www.stsci.edu/hst/wfpc2/wfpc2_faq/wfpc2_phot_faq.html\n",
    "  [6]: screenshots/redsequence_5.png"
   ]
  },
  {
   "cell_type": "code",
   "execution_count": null,
   "id": "2fd2da27-fcb3-4f2c-ac2f-50b13fa520e1",
   "metadata": {},
   "outputs": [],
   "source": [
    "g = sns.relplot(data=df, x='IC', y='VC-IC', height=10, hue='TargetName',\n",
    "                hue_order=sorted(df.TargetName.unique()))"
   ]
  },
  {
   "cell_type": "code",
   "execution_count": null,
   "id": "db1b9975-7d55-488d-bd45-1e3b8acfb388",
   "metadata": {},
   "outputs": [],
   "source": []
  }
 ],
 "metadata": {
  "kernelspec": {
   "display_name": "stsci",
   "language": "python",
   "name": "stsci"
  },
  "language_info": {
   "codemirror_mode": {
    "name": "ipython",
    "version": 3
   },
   "file_extension": ".py",
   "mimetype": "text/x-python",
   "name": "python",
   "nbconvert_exporter": "python",
   "pygments_lexer": "ipython3",
   "version": "3.10.4"
  }
 },
 "nbformat": 4,
 "nbformat_minor": 5
}
