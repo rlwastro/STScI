{
 "cells": [
  {
   "cell_type": "markdown",
   "id": "1f59f4cb-32e2-47d9-9fb2-a9fcba968de2",
   "metadata": {},
   "source": [
    "# A Hubble Source Catalog (HSC) Use Case\n",
    "\n",
    "- [Example #2: Using CASJOBS to Query the HSC][1]\n",
    "  - (Globular Clusters in M87 and a Color Magnitude Diagram for the SMC)\n",
    "  \n",
    "![m87_2plot][2]\n",
    "\n",
    "\n",
    "  [1]: https://archive.stsci.edu/hst/hsc/help/use_case_2_v3.html\n",
    "  [2]: screenshots/m87_2plot.png"
   ]
  },
  {
   "cell_type": "markdown",
   "id": "f2512087-70a8-4f74-89cf-6ba8ec6b134a",
   "metadata": {
    "tags": []
   },
   "source": [
    "CasJobs is an online tool used to query large databases. Originally created for the [SDSS][1] catalog, it has now been adapted for selected [MAST][2] archival datasets - namely GALEX, Kepler and the HSC. While the [MAST Discovery Portal][3] is the primary tool for using the HSC, CasJobs provides a powerful tool for looking at larger datasets and making more detailed queries. The [HSC Homepage][4] is also available for some specific queries.\n",
    "\n",
    "<span style=\"color:red;\">GOAL</span>: This tutorial provides a first look at how to use CasJobs to query the Hubble Source Catalog. For a more detailed tutorial on the syntax behind the queries the [SDSS SQL Tutorial][5] is recommended.\n",
    "\n",
    "<span style=\"color:red;\">SCIENCE CASE</span>: The science cases are studies of: 1. slightly extended objects (i.e., globular clusters in M87) and 2. large datasets (i.e., a Color Magntiude Diagram for the SMC).\n",
    "\n",
    "\n",
    "  [1]: http://www.sdss.org/\n",
    "  [2]: http://archive.stsci.edu/\n",
    "  [3]: http://mast.stsci.edu/portal/Mashup/Clients/Mast/Portal.html\n",
    "  [4]: https://archive.stsci.edu/hst/hsc/\n",
    "  [5]: http://cas.sdss.org/dr7/en/help/howto/search/"
   ]
  },
  {
   "cell_type": "code",
   "execution_count": null,
   "id": "a4b9dc54-295c-481e-8747-503282ec19dc",
   "metadata": {},
   "outputs": [],
   "source": [
    "import astropy\n",
    "from astropy.coordinates import SkyCoord\n",
    "import time\n",
    "import sys\n",
    "import os\n",
    "import requests\n",
    "import json\n",
    "import numpy as np\n",
    "import matplotlib.pyplot as plt\n",
    "import seaborn as sns\n",
    "import pandas as pd\n",
    "\n",
    "from scipy.stats import linregress\n",
    "from sklearn.linear_model import LinearRegression\n",
    "\n",
    "from PIL import Image\n",
    "from io import BytesIO\n",
    "\n",
    "from astropy.table import Table, join\n",
    "from astropy.io import ascii\n",
    "\n",
    "# check that version of mastcasjobs is new enough\n",
    "# we are using some features not in version 0.0.1\n",
    "from pkg_resources import get_distribution\n",
    "from packaging.version import Version as V\n",
    "\n",
    "assert V(get_distribution(\"mastcasjobs\").version) >= V('0.0.2'), \"\"\"\n",
    "A newer version of mastcasjobs is required.\n",
    "Update mastcasjobs to current version using this command:\n",
    "pip install --upgrade git+git://github.com/rlwastro/mastcasjobs@master\n",
    "\"\"\"\n",
    "\n",
    "import mastcasjobs\n",
    "\n",
    "# set width for pprint\n",
    "astropy.conf.max_width = 150"
   ]
  },
  {
   "cell_type": "code",
   "execution_count": null,
   "id": "b56a7538-b521-452c-a8a9-25e06d2ad0d5",
   "metadata": {},
   "outputs": [],
   "source": [
    "pd.set_option('display.max_columns', 700)\n",
    "pd.set_option('display.max_rows', 400)\n",
    "pd.set_option('display.min_rows', 10)\n",
    "pd.set_option('display.expand_frame_repr', True)"
   ]
  },
  {
   "cell_type": "code",
   "execution_count": null,
   "id": "d203bc9d-4f0c-45f2-bdb0-92a3d8c5c3bc",
   "metadata": {},
   "outputs": [],
   "source": [
    "HSCContext = \"HSCv3\""
   ]
  },
  {
   "cell_type": "markdown",
   "id": "0df58a20-6027-4721-86be-a4a9a3f43208",
   "metadata": {
    "tags": []
   },
   "source": [
    "Set up Casjobs environment."
   ]
  },
  {
   "cell_type": "code",
   "execution_count": null,
   "id": "0afec2d1-68cf-4dde-b38f-b75c0f40e0a2",
   "metadata": {},
   "outputs": [],
   "source": [
    "import getpass\n",
    "if not os.environ.get('CASJOBS_USERID'):\n",
    "    os.environ['CASJOBS_USERID'] = input('Enter Casjobs UserID:')\n",
    "if not os.environ.get('CASJOBS_PW'):\n",
    "    os.environ['CASJOBS_PW'] = getpass.getpass('Enter Casjobs password:')"
   ]
  },
  {
   "cell_type": "markdown",
   "id": "9c90bbbb-a6a2-4489-aa4e-ca8e743c870d",
   "metadata": {},
   "source": [
    "## <span style=\"color:red;\">Step 1</span> - HSC Casjobs\n",
    "\n",
    "Enter the [HSC Casjobs webpage][1] and create an account using the button in the top menu bar (<span style=\"color:blue;\">blue</span>). Go ahead and login (<span style=\"color:green;\">green</span>).\n",
    "\n",
    "![welcome][2]\n",
    "\n",
    "\n",
    "  [1]: https://mastweb.stsci.edu/hcasjobs/\n",
    "  [2]: screenshots/hsc_welcome.png"
   ]
  },
  {
   "cell_type": "markdown",
   "id": "008a11f4-672c-4539-817a-44c1c15be65f",
   "metadata": {},
   "source": [
    "## <span style=\"color:red;\">Step 2</span> - Inspect the HSC databases and functions.\n",
    "\n",
    "Click *MyDB* in the top menu bar (<span style=\"color:blue;\">blue</span>). This displays all the tables and functions you create in \"MyDB\" (My Database). Now change the \"context\" (the database used to run your query) from MyDB to HSCv3 (i.e., Hubble Source Catalog Version 3) (<span style=\"color:green;\">green</span>), using the dropdown menu on the top left. This shows the available views, tables, functions and procedures related to the HSC database.\n",
    "\n",
    "For example, click *Tables* (<span style=\"color:green;\">green</span>), and then select *SumMagAper2Cat* (i.e., the HSC Summary Form using magaper2 magnitudes) (<span style=\"color:orange;\">orange</span>). Scroll across to see the fields located in this table, such as Match ID (<span style=\"color:yellow;\">yellow</span>), the instrument and filter used (i.e., W2_F122M is the magaper2 magnitude using the Wide Field Planetary Camera 2 image and the F122M filter) (<span style=\"color:yellow;\">yellow</span>). A description of the table and some of the columns are provided. You might want to examine the Function *SearchSumCatalog* also, since you will be using it in a minute.\n",
    "\n",
    "![hsc_tables][1]\n",
    "\n",
    "\n",
    " [1]: screenshots/hsc_tables.png"
   ]
  },
  {
   "cell_type": "markdown",
   "id": "8f128744-5c15-4db1-b43b-a53c5ee36e5f",
   "metadata": {},
   "source": [
    "### sample code to update"
   ]
  },
  {
   "cell_type": "code",
   "execution_count": null,
   "id": "d7385898-4f6f-4cab-ade9-48e9639e96d6",
   "metadata": {},
   "outputs": [],
   "source": [
    "\n",
    "target = 'Abell 2390'\n",
    "coord_adell2390 = SkyCoord.from_name(target)\n",
    "\n",
    "ra_adell2390 = coord_adell2390.ra.degree\n",
    "dec_adell2390 = coord_adell2390.dec.degree\n",
    "print(f'ra: {ra_adell2390}\\ndec: {dec_adell2390}')"
   ]
  },
  {
   "cell_type": "code",
   "execution_count": null,
   "id": "87cd1518-5f54-4d38-a288-3ab26bb1b209",
   "metadata": {},
   "outputs": [],
   "source": [
    "HSCContext = \"HSCv3\"\n",
    "\n",
    "DBtable = \"summary\"\n",
    "jobs = mastcasjobs.MastCasJobs(context=\"MyDB\")\n",
    "\n",
    "# drop table if it already exists\n",
    "jobs.drop_table_if_exists(DBtable)\n",
    "\n",
    "# get main information\n",
    "radius = 720 # arcsec\n",
    "query = f\"\"\"\n",
    "select MatchID, TargetName, MatchRA, MatchDec, CI, W2_F555W, W2_F814W\n",
    "into mydb.{DBtable}\n",
    "from SearchSumCatalog({ra_adell2390},{dec_adell2390},{radius},1)\n",
    "\"\"\"\n",
    "\n",
    "# add the following line at the bottom of the query, to filter the results\n",
    "# where W2_F555W is not null and W2_F814W is not null\n",
    "\n",
    "t0 = time.time()\n",
    "results = jobs.quick(query, task_name=\"HCV demo\", context=HSCContext)\n",
    "\n",
    "print(f\"Completed in {(time.time()-t0):.1f} sec\")\n",
    "print(results)\n",
    "\n",
    "# fast retrieval using special MAST Casjobs service\n",
    "tab = jobs.fast_table(DBtable, verbose=True)\n",
    "\n",
    "# clean up the output format\n",
    "tab['W2_F555W'].format = \"{:.3f}\"\n",
    "tab['W2_F814W'].format = \"{:.3f}\"\n",
    "tab['CI'].format = \"{:.3f}\"\n",
    "tab['MatchRA'].format = \"{:.6f}\"\n",
    "tab['MatchDec'].format = \"{:.6f}\"\n",
    "\n",
    "tab = tab.to_pandas()\n",
    "tab.head()"
   ]
  },
  {
   "cell_type": "markdown",
   "id": "2c2af183-270f-4243-9aca-efef173b35b8",
   "metadata": {},
   "source": [
    "## <span style=\"color:red;\">Step 3</span> - Query the database\n",
    "\n",
    "The query below is designed to find globular clusters in the galaxy M87.\n",
    "\n",
    "```sql\n",
    "SELECT\n",
    "      MatchRA, MatchDEC, MatchID, CI, W2_F606W, W2_F814W, V_I=W2_F606W - W2_F814W\n",
    "FROM \n",
    "      SearchSumCatalog(187.706, 12.391, 500.0, 1)\n",
    "WHERE CI > 1.05 and CI < 1.5\n",
    "      and (W2_F606W - W2_F814W) > 0.0 and (W2_F606W - W2_F814W) < 1.0\n",
    "      and numimages > 50\n",
    "ORDER BY matchID \n",
    "```\n",
    "\n",
    "The SELECT command defines the columns to include in the output table (such as the RA, DEC, ID, Concentration Index, and magnitudes).\n",
    "\n",
    "The FROM command defines the query itself, and is composed of the following parts:\n",
    "\n",
    "a) The HSC function SearchSumCatalog, which is used to search the HSC around the position of M87 (187.706, 12.391) with a specified search radius (500 arcsec), and retrieve the magaper2 (magtype = 1, i.e., aperture magnitudes within a 3 pixel = 0.30 arcsec radius).\n",
    "\n",
    "b) The WHERE clause defines the search parameters\n",
    "     i) concentration index (CI = difference between magnitudes for apertures with a radius of 0.10 and 0.30 arcsec) with values between 1.05 and 1.5 (i.e., slightly extended)\n",
    "     ii) V - I (W2_F606W - W2_F814W) color betwen 0.0 and 1.0\n",
    "     iii) number of images in a match (>50).\n",
    "\n",
    "The ORDER BY defines the order of the results (i.e. by matchID).\n",
    "\n",
    "Now click *Query*. Change the context from MyDB to HSCv3 (if necessary) (<span style=\"color:blue;\">blue</span>). <span style=\"color:blue;\">Note that forgetting to change the context is the most common error causing CasJobs queries to fail</span>. Copy and paste the text from above into the blank query text box (<span style=\"color:green;\">green</span>). Click *Quick* (<span style=\"color:orange;\">orange</span>) to submit the job.\n",
    "\n",
    "Since this is a *Quick* submission, the table is not saved to MyDB, but is instead listed below. If you want to save the table, add \"INTO M87_V3\" at the end of the query (see Step 7).\n",
    "\n",
    "The table can also be downloaded to a local file using the *Save As* button (<span style=\"color:yellow;\">yellow</span>) at the bottom of the page.\n",
    "\n",
    "Another option is the Submit button, which is generally used for longer queries. The table is saved using the name in the box under \"Table (optional)\", which defaults to MyTable; change this to M87_V3 for our example. Try this. To see the table click the *MyDB* tab, select the *MyDB* context (if necessary), click on M87_V3, and click on *Sample* to see the file.\n",
    "\n",
    "![m87_casjob_query][1]\n",
    "\n",
    "\n",
    "  [1]: screenshots/m87_casjob_query.png"
   ]
  },
  {
   "cell_type": "markdown",
   "id": "5e30e31d-6a9a-44d6-9f47-7c66cd8a8e86",
   "metadata": {},
   "source": [
    "## <span style=\"color:red;\">Step 4</span> - Examine an image\n",
    "\n",
    "It is a good idea to look at the HSC overlayed on an image, to check for artifacts and uniformity. Copy the *MatchRA* and *MatchDec* values of the 7th source from your table. Open the [HLA][1] and paste those values into the search box (<span style=\"color:blue;\">blue</span>). Click *Search*.\n",
    "\n",
    "Note: The HLA displays your search coordinates in both decimal degrees and sexidecimal format (<span style=\"color:blue;\">blue</span>). This is useful if you want to find a specific object in the Interactive Display.\n",
    "\n",
    "In the *Detector* field enter \\*acs/wfc\\* (<span style=\"color:green;\">green</span>) to select just the ACS Wide Field Camera images. Click on the Display (<span style=\"color:orange;\">orange</span>) button for the F814W/F606W (color) image (or click on the Images button if you would like to look at previews of all the images).\n",
    "\n",
    "![m87_hla_inventory][2]\n",
    "\n",
    "\n",
    "  [1]: http://hla.stsci.edu/hlaview.html\n",
    "  [2]: screenshots/m87_hla_inventory.png"
   ]
  },
  {
   "cell_type": "markdown",
   "id": "2104d6ea-11a9-435b-9596-3bdc05931406",
   "metadata": {},
   "source": [
    "## <span style=\"color:red;\">Step 5</span> - Determine the value of NumImages to use\n",
    "\n",
    "*Click HSC controls, Require NumImages > 10*, and then the HSC (<span style=\"color:blue;\">blue</span>) button to overlay the HSC on this particular image. We find that NumImages > 10 leaves a number of artifacts and apparently blank circles. If you click on a few of the real objects (<span style=\"color:green;\">green</span>) you find they all have more than NumImages = 50. Some have over 200!\n",
    "\n",
    "Go back and change to *Require NumImages > 60* (<span style=\"color:orange;\">orange</span>) to remove essentially all of the artifacts (although you are still missing some objects near the center of the galaxy).\n",
    "\n",
    "*DETERMINING THE BEST VALUE OF NUMIMAGES IS OFTEN ONE OF THE MOST IMPORTANT DECISIONS YOU WILL HAVE WHEN USING THE HSC!*\n",
    "\n",
    "It is also interesting to note that there are 4 Gaia sources in the image, and they are all well aligned with HSC sources. Clicking on an object brings up the information for both the HSC and Gaia sources.\n",
    "\n",
    "![m87_2plot][1]\n",
    "\n",
    "\n",
    "  [1]: screenshots/m87_2plot.png"
   ]
  },
  {
   "cell_type": "markdown",
   "id": "197f047c-a1e0-46cc-b3d5-bb14bfef9ad9",
   "metadata": {},
   "source": [
    "## <span style=\"color:red;\">Step 6</span>\n",
    "\n",
    "You can also use the MAST Discovery Portal to make the same query, since this is a relatively small dataset. Several other HSC Use Cases (e.g., #1: Using the Discovery Portal to Query the HSC - Stellar Photometry in M31; Brown et al. 2009) provide more detail. The Discovery Portal can also be used to make plots and to reach the HLA Interactive Display (like in Step 5).\n",
    "\n",
    "In this example we center on the coordinates of the object (<span style=\"color:blue;\">blue</span>) in the list from the CasJobs search in Step 3 to find the object with matchID = 409428 (<span style=\"color:orange;\">orange</span>). Also note that M87 has been visited 111 times using 216 different images (<span style=\"color:green;\">green</span>) in this region!\n",
    "\n",
    "![m87_dp][1]\n",
    "\n",
    "\n",
    "  [1]: screenshots/m87_dp.png"
   ]
  },
  {
   "cell_type": "markdown",
   "id": "a2c41285-0147-431e-94a0-1b8d346af7b6",
   "metadata": {},
   "source": [
    "## <span style=\"color:red;\">Step 7</span>\n",
    "\n",
    "Now let's try something a little bigger by making a Color Magnitude Diagram (CMD) for the Small Magellanic Cloud (SMC) using the ACS data. Following similar steps to those described above, cut and paste the following text into a *Query* box, and hit the *Submit* button (since this is a longer query). The table smc_v3 should appear in MyDb in about 6 minutes or so.\n",
    "\n",
    "```sql\n",
    "SELECT\n",
    "      MatchRA, MatchDEC, MatchID, CI, A_F555W, A_F814W, V_I=(A_F555W - A_F814W)\n",
    "INTO\n",
    "      smc_v3\n",
    "FROM \n",
    "     SearchSumCatalog(13.1866,-72.8286,7200,1) \n",
    "WHERE CI > 0.9 and CI < 1.6  \n",
    "      and  A_F555W > 0 and A_F814W > 0\n",
    "      and (A_F555W - A_F814W) < 1.5 and (A_F555W - A_F814W) > -1.5\n",
    "      and numimages > 1\n",
    "ORDER BY matchID\n",
    "```\n",
    "\n",
    "Next make the plot of V-I vs V shown in the upper right (flipped from how it will appear using CasJobs). This figure was made using version 3 of the HSC. There are 789,645 datapoints using hundreds of ACS fields, as shown in the HLA footprint image below! The entire exercise should only take a few minutes. Similar plots can be made for WFPC2 and WFC3.\n",
    "\n",
    "![hla_smc_combined][1]\n",
    "\n",
    "\n",
    "  [1]: screenshots/hla_smc_combined.jpg"
   ]
  }
 ],
 "metadata": {
  "kernelspec": {
   "display_name": "stsci",
   "language": "python",
   "name": "stsci"
  },
  "language_info": {
   "codemirror_mode": {
    "name": "ipython",
    "version": 3
   },
   "file_extension": ".py",
   "mimetype": "text/x-python",
   "name": "python",
   "nbconvert_exporter": "python",
   "pygments_lexer": "ipython3",
   "version": "3.10.4"
  },
  "toc-autonumbering": false
 },
 "nbformat": 4,
 "nbformat_minor": 5
}
