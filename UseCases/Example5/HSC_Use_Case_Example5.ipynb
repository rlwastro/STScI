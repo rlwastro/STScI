{
 "cells": [
  {
   "cell_type": "markdown",
   "id": "3c7ad9e7-7440-4645-9b91-9d9454a82cb7",
   "metadata": {},
   "source": [
    "# A Hubble Source Catalog (HSC) Use Case\n",
    "\n",
    "- [Example #5: Using the Discovery Portal and CasJobs to search for Outlier Objects in the HSC][1]\n",
    "  - (White dwarfs in the Globular Cluster M4)\n",
    "\n",
    "\n",
    "  [1]: https://archive.stsci.edu/hst/hsc/help/use_case_5_v2.html"
   ]
  },
  {
   "cell_type": "markdown",
   "id": "b7fd9f1c-83a6-4c9c-93b5-cb1ab9212942",
   "metadata": {},
   "source": [
    "<span style=\"color:red;\">GOAL</span>: This tutorial shows you how to use the MAST Discovery Portal and CasJobs to make a Color-Magnitude Diagram to search for outliers. In the process, you will learn how to download a table from CasJobs, and upload it into the Discovery Portal.\n",
    "\n",
    "<span style=\"color:red;\">SCIENCE CASE</span>: The science case is searching for white dwarfs (i.e. in the Globular Cluster M4; Richer et al. 1997, ApJ 484, 741)."
   ]
  },
  {
   "cell_type": "markdown",
   "id": "a7e0c520-db43-46c2-9bf7-b7ee9319d07e",
   "metadata": {},
   "source": [
    "## <span style=\"color:red;\">Step 1</span> - Determine which object(s) you wish to study\n",
    "\n",
    "Go to the Hubble Legacy Archive and input the position (blue) of your candidate object (in this case the globular cluster M4). Go to the Footprints tab (green) to see if the HST coverage is sufficient for your project. In this case, there are many imaging observations available, so this is a good object for study.\n",
    "\n",
    "\n",
    "\n",
    "In the Inventory tab, scroll over to the PropID field and click on the ID (for example proposal 12311 (blue)). This will take you to the proposal page where you can see the abstract for the proposal, as well as papers that use this dataset."
   ]
  },
  {
   "cell_type": "markdown",
   "id": "b10427cf-5ef6-40fb-a927-64959571ba58",
   "metadata": {},
   "source": [
    "## <span style=\"color:red;\">Step 2</span> - Go to the MAST Discovery Portal.\n",
    "\n",
    "Use the pull down menu under Select Collection to choose the HSC (blue). Enter (you can just cut and paste if you like) the coordinates and search radius (i.e. 16:23:35.4 -26:31:31.9 r=200s) in the Search box (green). Perform the search by just hitting a carriage return or by clicking on the  icon (orange). The results are displayed in the List of Objects, while the AstroView window shows the objects against the DSS image. The left column is a series of Filters that can be used to refine the data selected.\n",
    "\n",
    "\n",
    "\n",
    "At this point, you may want to look directly at the HST data. This can be done by clicking on the  icon (yellow) under Actions, and then clicking on the Preview image (see Use Case 1 for details).\n",
    "\n",
    "Note that while the HSC can be used directly for some science projects, in many cases (like this) you would need to make a much deeper catalog to get the most out of the data. In these cases the HSC provides: 1) a quick look at what data exists, 2) a feasibility study, 3) a dataset to compare with at the brighter wavelengths, and 4) the ability to link with other instruments or surveys."
   ]
  },
  {
   "cell_type": "markdown",
   "id": "9b745a28-9db1-46e7-b3c1-76325e83a301",
   "metadata": {},
   "source": [
    "## <span style=\"color:red;\">Step 3</span> - Make a Color-Magnitude Diagram (CMD)\n",
    "\n",
    "Make a plot by clicking the  icon (blue). Under Configuration, make an U-I (W3_F275W-W3_F814W) column by using the Combine Columns option (green).\n",
    "\n",
    "\n",
    "Next, select X = U-I and Y = W3_F275W (blue). Click on the Update Series button (green) to plot the CMD. Reverse the Y axis to have magnitudes go from bright to faint (orange). The white dwarfs are blueward of the main band of stars (yellow).\n",
    "\n",
    "\n",
    "In some cases, you may find that there are objects in the CMD where you don't expect them. If you look at the details for these objects, you may find that they have particular high CI values (possibly due to a cosmic ray or other defect in the image) or large magnitude errors (due to the inclusion of a saturated measurement). While we attempt to screen these out when building the source lists, we are not always successful. In these cases, you should use the Filtering options to screen out the bad data."
   ]
  },
  {
   "cell_type": "markdown",
   "id": "bd8e8454-8ea2-41ae-801e-5c31088c0b23",
   "metadata": {},
   "source": [
    "## <span style=\"color:red;\">Step 4</span> - Expand the dataset\n",
    "\n",
    "The Discovery Portal found 50,000 objects, which is currently the limit of the number of objects it will report per search. Many of these do not have F275W and F814W magnitudes, so we may be missing (many) other objects that would be of interest. Also, we have restricted our search to only 200\" when ideally we would want to cover the entire cluster, which would result in even more objects that would not be reported due to the 50,000 object limit. To do a more complete search, we will use CasJobs (see Use Case 2 for more details on using CasJobs).\n",
    "\n",
    "\n",
    "\n",
    "Enter the HSC CasJobs webpage and login. Go to the Query page (blue) and set the context to HSC (green). The query below is designed to find objects in M4 that have both WFC3 F275W and F814W magnitudes. Note that we have expanded the search radius to 500s to encompass the entire cluster, and restricted the search to exclude objects with high CI values and large magnitude errors.\n",
    "\n",
    "```sql\n",
    "SELECT\n",
    "   MatchRA, MatchDEC, MatchID, W3_F275W, W3_F814W,\n",
    "   F275W_F814W=W3_F275W-W3_F814W\n",
    "FROM \n",
    "  SearchSumCatalog(245.89750,-26.52553,500.0,1)\n",
    "  where CI < 1.25\n",
    "  and numimages > 2\n",
    "  and (W3_F275W > 0 and W3_F814W > 0) \n",
    "  and W3_F275W_Sigma < 1.0\n",
    "  and W3_F814W_Sigma < 1.0\n",
    "ORDER BY matchID\n",
    "INTO M4\n",
    "```\n",
    "\n",
    "The WHERE clause defines the search parameters:\n",
    "     i) concentration index (CI) is less than 1.25 (to find only stars)\n",
    "     ii) number of images in a match (>2)\n",
    "     iii) W3_F275W and W3_F814W must be greater than 0 (to ignore objects with only one color)\n",
    "     iv) W3_F275W_Sigma and W3_F814W_Sigma must be less than 1.0 (to ignore objects with poor measurements)\n",
    "\n",
    "Submit (orange) the query for processing."
   ]
  },
  {
   "cell_type": "markdown",
   "id": "c2fb9011-7af5-46dd-984d-de6b8727b585",
   "metadata": {},
   "source": [
    "## <span style=\"color:red;\">Step 5</span> - Export the CasJobs data\n",
    "\n",
    "After the query has finished, go to the MyDB (blue) page. Find the dataset (M4) in the list on the left and select it (green). Note that there are ~381 objects. We need to download the data so we can import it into the Discovery Portal for plotting. Select the Download option (orange). Select your format (yellow) and click on Go.\n",
    "\n",
    "\n",
    "After hitting Go, you are taken to the Output page. Once the dataset is available, click on Download (blue)."
   ]
  },
  {
   "cell_type": "markdown",
   "id": "06b3b989-162d-4591-b9ea-f13be9d56d7c",
   "metadata": {},
   "source": [
    "## <span style=\"color:red;\">Step 6</span> - Import the catalog into the Discovery Portal\n",
    "\n",
    "Prior to ingesting the catalog into the Discovery Portal, you must change the name of the MatchRA column to RA and the MatchDEC column to DEC; you can also rename the F275W-F814W column to U-I. Then go to the Discovery Portal and click on the  icon (blue) to ingest the catalog. To see the file format, click on the  icon (green). After browsing to input the file name, click on Upload (orange) to ingest the catalog.\n",
    "\n",
    "\n",
    "After importing, you will see the catalog and the objects overlaid on the DSS image."
   ]
  },
  {
   "cell_type": "markdown",
   "id": "53602161-5307-4b4d-88b5-b78357325638",
   "metadata": {},
   "source": [
    "## <span style=\"color:red;\">Step 7</span> - Make the Color-Magnitude Diagram\n",
    "\n",
    "As we did in Step 3, make the plot by clicking the  icon. Note that we do not need to construct the U-I color as we did in Step 2 as we did that when we creating the catalog. Under Configuration, select X = U-I and Y = W3_F275W. Click on the Update Series button to plot the CMD. Reverse the Y axis to have magnitudes go from bright to faint. Note that there are many more objects in the plot than we had using the Discovery Portal query.\n",
    "\n",
    "\n",
    "The white dwarfs are blueward of the main band of stars. Of the 8 objects in the WD area, 6 are in Richer, 1 is not in the WFPC2 FOV (green) used by Richer and hence is a new white dwarf candidate, and 1 is not visible on the WFPC2 F814W image (but is in the WFC3 data so is in the HSC; orange).\n",
    "\n",
    "It is always a good idea to go back to the HLA and look at each object to make certain it is not an artifact or have other issues. Below is a blowup of the one candidate (blue) that was not visible on the original WFPC2 F814W image.\n",
    "\n",
    "\n",
    "With the techniques above, it is easy to make other Color-Magnitude diagrams."
   ]
  }
 ],
 "metadata": {
  "kernelspec": {
   "display_name": "stsci",
   "language": "python",
   "name": "stsci"
  },
  "language_info": {
   "codemirror_mode": {
    "name": "ipython",
    "version": 3
   },
   "file_extension": ".py",
   "mimetype": "text/x-python",
   "name": "python",
   "nbconvert_exporter": "python",
   "pygments_lexer": "ipython3",
   "version": "3.10.4"
  }
 },
 "nbformat": 4,
 "nbformat_minor": 5
}
